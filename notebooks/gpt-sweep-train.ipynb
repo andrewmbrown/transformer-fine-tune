{
 "cells": [
  {
   "cell_type": "code",
   "execution_count": 11,
   "id": "3c6622e2-24df-40eb-ad1b-01823c25f803",
   "metadata": {},
   "outputs": [],
   "source": [
    "import os\n",
    "import time\n",
    "import datetime\n",
    "import pandas as pd\n",
    "import seaborn as sns\n",
    "import numpy as np\n",
    "import random\n",
    "import matplotlib.pyplot as plt\n",
    "\n",
    "# wandb for tracking experiment and sweeping hyperparamters\n",
    "import wandb\n",
    "# pyyaml (yaml) :: parses configuration files (YAML files)\n",
    "# see https://www.cloudbees.com/blog/yaml-tutorial-everything-you-need-get-started for more information on YAML files\n",
    "import yaml \n",
    "\n",
    "# huggingface :: datasets : dataset-handling libraries from huggingface\n",
    "from datasets import load_dataset\n",
    "#from datasets.filesystems import S3FileSystem # for S3 interactions\n",
    "\n",
    "# huggingface :: transformers : transformer, trainer and tokenizer objects for the actual training\n",
    "import torch\n",
    "from torch.utils.data import Dataset, DataLoader, random_split, RandomSampler, SequentialSampler\n",
    "\n",
    "from transformers import GPT2Tokenizer, GPT2LMHeadModel, GPT2Config, AutoTokenizer, AutoModelForCausalLM, DataCollatorForLanguageModeling, Trainer, TrainingArguments\n",
    "from transformers import AdamW, get_linear_schedule_with_warmup\n",
    "from transformers import TrainingArguments, Trainer, DataCollatorForLanguageModeling"
   ]
  },
  {
   "cell_type": "code",
   "execution_count": 12,
   "id": "027eaab0-abc3-4cec-b375-d5bdf2245067",
   "metadata": {},
   "outputs": [
    {
     "name": "stderr",
     "output_type": "stream",
     "text": [
      "[nltk_data] Downloading package punkt to /home/ubuntu/nltk_data...\n",
      "[nltk_data]   Package punkt is already up-to-date!\n"
     ]
    },
    {
     "data": {
      "text/plain": [
       "True"
      ]
     },
     "execution_count": 12,
     "metadata": {},
     "output_type": "execute_result"
    }
   ],
   "source": [
    "# nltk punkt sentence tokenizer, divides text into a list of sentences\n",
    "import nltk\n",
    "nltk.download('punkt')"
   ]
  },
  {
   "cell_type": "code",
   "execution_count": 13,
   "id": "bef5de79-8cc4-4b63-b5d5-a2bb874ea8e8",
   "metadata": {},
   "outputs": [
    {
     "name": "stdout",
     "output_type": "stream",
     "text": [
      "Tue Feb 21 18:08:12 2023       \n",
      "+-----------------------------------------------------------------------------+\n",
      "| NVIDIA-SMI 510.47.03    Driver Version: 510.47.03    CUDA Version: 11.6     |\n",
      "|-------------------------------+----------------------+----------------------+\n",
      "| GPU  Name        Persistence-M| Bus-Id        Disp.A | Volatile Uncorr. ECC |\n",
      "| Fan  Temp  Perf  Pwr:Usage/Cap|         Memory-Usage | GPU-Util  Compute M. |\n",
      "|                               |                      |               MIG M. |\n",
      "|===============================+======================+======================|\n",
      "|   0  Tesla T4            On   | 00000000:00:1E.0 Off |                    0 |\n",
      "| N/A   26C    P8    14W /  70W |      0MiB / 15360MiB |      0%      Default |\n",
      "|                               |                      |                  N/A |\n",
      "+-------------------------------+----------------------+----------------------+\n",
      "                                                                               \n",
      "+-----------------------------------------------------------------------------+\n",
      "| Processes:                                                                  |\n",
      "|  GPU   GI   CI        PID   Type   Process name                  GPU Memory |\n",
      "|        ID   ID                                                   Usage      |\n",
      "|=============================================================================|\n",
      "|  No running processes found                                                 |\n",
      "+-----------------------------------------------------------------------------+\n"
     ]
    }
   ],
   "source": [
    "!nvidia-smi"
   ]
  },
  {
   "cell_type": "code",
   "execution_count": 36,
   "id": "39ab29e4-3481-4eb7-9170-bfb13c36509d",
   "metadata": {},
   "outputs": [],
   "source": [
    "path_to_config = \"../configs/gpt2-refl-21-feb-2023.yaml\""
   ]
  },
  {
   "cell_type": "code",
   "execution_count": 37,
   "id": "59a9d478-d8e4-45c9-b8e0-51be9d07d66c",
   "metadata": {},
   "outputs": [],
   "source": [
    "path_to_config = \"../configs/gpt2-refl-19-feb-2023.yaml\"\n",
    "# open yaml config as a strema and load into config_dict\n",
    "with open(path_to_config, \"r\") as stream:\n",
    "    try:\n",
    "        config_dict = yaml.safe_load(stream)\n",
    "    except yaml.YAMLError as exc:\n",
    "        print(\"Configuration load failed!\")\n",
    "        print(exc)"
   ]
  },
  {
   "cell_type": "code",
   "execution_count": 16,
   "id": "607b596e-762a-4735-a413-00f094c030b2",
   "metadata": {},
   "outputs": [],
   "source": [
    "df = pd.read_csv(config_dict[\"data_train_path\"])\n",
    "df_val = pd.read_csv(config_dict[\"data_validation_path\"])"
   ]
  },
  {
   "cell_type": "code",
   "execution_count": 17,
   "id": "d46f7a90-2ddc-4d32-9b54-de380dcfb35d",
   "metadata": {},
   "outputs": [],
   "source": [
    "df.dropna(inplace=True)  # drop NA values\n",
    "triplets = df.triplet.copy()  # copy over triplets"
   ]
  },
  {
   "cell_type": "code",
   "execution_count": 18,
   "id": "fc0eea85-8da6-4337-8aca-e8945c78c2dc",
   "metadata": {},
   "outputs": [],
   "source": [
    "val_triplets = df_val.triplet.copy()  # validation triplets"
   ]
  },
  {
   "cell_type": "code",
   "execution_count": 19,
   "id": "839c2a2e-7c5c-4031-9a15-a929c4e3cd94",
   "metadata": {},
   "outputs": [
    {
     "data": {
      "text/plain": [
       "<seaborn.axisgrid.FacetGrid at 0x7f416c34a290>"
      ]
     },
     "execution_count": 19,
     "metadata": {},
     "output_type": "execute_result"
    },
    {
     "data": {
      "image/png": "[encoded data removed]",
      "text/plain": [
       "<Figure size 500x500 with 1 Axes>"
      ]
     },
     "metadata": {},
     "output_type": "display_data"
    }
   ],
   "source": [
    "# how long is our training data?\n",
    "doc_lengths = []\n",
    "for triplet in triplets:\n",
    "    tokens = nltk.word_tokenize(triplet)\n",
    "    doc_lengths.append(len(tokens))\n",
    "doc_lengths = np.asarray(doc_lengths)\n",
    "sns.displot(doc_lengths)"
   ]
  },
  {
   "cell_type": "code",
   "execution_count": 20,
   "id": "7be28cbd-b469-486c-94a1-1b8fb23540cc",
   "metadata": {},
   "outputs": [
    {
     "data": {
      "text/plain": [
       "47.57807308970099"
      ]
     },
     "execution_count": 20,
     "metadata": {},
     "output_type": "execute_result"
    }
   ],
   "source": [
    "np.average(doc_lengths)\n",
    "# on average, we have ~47.5 tokens per entry, a good thing for GPT2 embedding size of 768 in gpt-small"
   ]
  },
  {
   "cell_type": "code",
   "execution_count": 38,
   "id": "b47867b6-71cb-4cea-b2ab-b7e95ccff6ca",
   "metadata": {},
   "outputs": [],
   "source": [
    "# all the below set the corresponding values from the configuration file config.yaml:\n",
    "model_name = config_dict[\"model_name\"]\n",
    "pretrained = config_dict[\"pretrained\"]\n",
    "data_train_path = config_dict[\"data_train_path\"]\n",
    "data_validation_path = config_dict[\"data_validation_path\"]\n",
    "\n",
    "\n",
    "\n",
    "output_data_dir = config_dict[\"output_data_dir\"] + \"/\"\n",
    "output_model_dir = config_dict[\"output_model_dir\"] + \"/\"\n",
    "\n",
    "hyperparameters = config_dict[\"training_settings\"][\"hyperparameters\"]\n",
    "hyperparameters[\"learning_rate\"] = float(hyperparameters[\"learning_rate\"])\n",
    "hyperparameters[\"weight_decay\"] = float(hyperparameters[\"weight_decay\"])\n",
    "\n",
    "deepspeed_config = config_dict[\"training_settings\"][\"deepspeed_settings\"]\n",
    "\n",
    "learning_rate = hyperparameters['learning_rate']\n",
    "epsilon = float(hyperparameters['epsilon'])  # epsilon must be a float, not str\n",
    "epochs = hyperparameters['epochs']\n",
    "warmup_steps = float(hyperparameters['warmup_steps'])\n",
    "sample_every = float(hyperparameters['sample_every'])\n",
    "batch_size = int(hyperparameters['batch_size'])"
   ]
  },
  {
   "cell_type": "code",
   "execution_count": 39,
   "id": "04be7ade-4c30-415d-b9c9-c4efe4dc6b2c",
   "metadata": {},
   "outputs": [
    {
     "name": "stderr",
     "output_type": "stream",
     "text": [
      "Special tokens have been added in the vocabulary, make sure the associated word embeddings are fine-tuned or trained.\n"
     ]
    }
   ],
   "source": [
    "# load gpt-2 tokenizer\n",
    "tokenizer = GPT2Tokenizer.from_pretrained(model_name, bos_token='<|startoftext|>', eos_token='<|endoftext|>', pad_token='<|pad|>')"
   ]
  },
  {
   "cell_type": "code",
   "execution_count": 40,
   "id": "b2bdd305-2a1e-43bf-85f4-c1379d111765",
   "metadata": {},
   "outputs": [
    {
     "name": "stdout",
     "output_type": "stream",
     "text": [
      "The max model length is 1024 for this model, although the actual embedding size for GPT small is 768\n",
      "The beginning of sequence token <|startoftext|> token has the id 50257\n",
      "The end of sequence token <|endoftext|> has the id 50256\n",
      "The padding token <|pad|> has the id 50258\n"
     ]
    }
   ],
   "source": [
    "print(\"The max model length is {} for this model, although the actual embedding size for GPT small is 768\".format(tokenizer.model_max_length))\n",
    "print(\"The beginning of sequence token {} token has the id {}\".format(tokenizer.convert_ids_to_tokens(tokenizer.bos_token_id), tokenizer.bos_token_id))\n",
    "print(\"The end of sequence token {} has the id {}\".format(tokenizer.convert_ids_to_tokens(tokenizer.eos_token_id), tokenizer.eos_token_id))\n",
    "print(\"The padding token {} has the id {}\".format(tokenizer.convert_ids_to_tokens(tokenizer.pad_token_id), tokenizer.pad_token_id))"
   ]
  },
  {
   "cell_type": "code",
   "execution_count": 41,
   "id": "074cb295-abc7-404d-9674-2f751e9863b3",
   "metadata": {},
   "outputs": [],
   "source": [
    "# amount of examples passed through model before a backwards pass\n",
    "batch_size = hyperparameters['batch_size']"
   ]
  },
  {
   "cell_type": "code",
   "execution_count": 42,
   "id": "2b4ddb39-4b65-475d-aa7d-89d28ffa7e6f",
   "metadata": {},
   "outputs": [],
   "source": [
    "class GPT2Dataset(Dataset):\n",
    "    # Inherits Dataset from PyTorch, a data primitive which\n",
    "    # stores samples and corresponding labels\n",
    "    # custom Dataset needs init, len, and getitem\n",
    "    # init runs once when instantiating Dataset object\n",
    "    def __init__(self, txt_list, tokenzier, gpt2_type='gpt2', max_length=768):\n",
    "        self.tokenizer = tokenizer,\n",
    "        self.input_ids = []\n",
    "        self.attn_masks = []\n",
    "        \n",
    "        # for each text list, encode it using tokenizer then unpacl encodings dict into:\n",
    "        # input_ids: numerical representations of our tokens\n",
    "        # attn_masks: indicates which tokens should be attended to (and which are pads)\n",
    "        for txt in txt_list:\n",
    "            # tokenize the txt with a custom start and end token\n",
    "            # encodings dict contains both our token input ids and attention mask\n",
    "            # truncation will clip sentences that are too long\n",
    "            # padding adds pad tokens until we reach max input sentence length 768\n",
    "            encodings_dict = tokenizer('<|startoftext|>'+ txt + '<|endoftext|>', truncation=True, max_length=max_length, padding=\"max_length\")\n",
    "            \n",
    "            self.input_ids.append(torch.tensor(encodings_dict['input_ids']))\n",
    "            self.attn_masks.append(torch.tensor(encodings_dict['attention_mask']))\n",
    "    # overrides len() to returns the number of samples in our dataset\n",
    "    def __len__(self):\n",
    "        return len(self.input_ids)\n",
    "    # loads and returns a sample from dataset at given index idx\n",
    "    # sometimes we need to do type swapping in getitem, but not here\n",
    "    def __getitem__(self, idx):\n",
    "        return self.input_ids[idx], self.attn_masks[idx]\n",
    "            \n",
    "        \n",
    "train_dataset = GPT2Dataset(triplets, tokenizer, max_length=768)\n",
    "val_dataset = GPT2Dataset(val_triplets, tokenizer, max_length=768)"
   ]
  },
  {
   "cell_type": "code",
   "execution_count": 43,
   "id": "17faab74-1b68-468e-bb7c-4b58bc6b93bb",
   "metadata": {},
   "outputs": [],
   "source": [
    "train_dataset = GPT2Dataset(triplets, tokenizer, max_length=768)\n",
    "val_dataset = GPT2Dataset(val_triplets, tokenizer, max_length=768)"
   ]
  },
  {
   "cell_type": "code",
   "execution_count": 44,
   "id": "b8e12d8e-66c1-47db-91a0-c3473a54f6c7",
   "metadata": {},
   "outputs": [
    {
     "name": "stdout",
     "output_type": "stream",
     "text": [
      "301 Training Samples\n",
      "34 Validation Samples\n"
     ]
    }
   ],
   "source": [
    "print(f\"{len(train_dataset)} Training Samples\")\n",
    "print(f\"{len(val_dataset)} Validation Samples\")"
   ]
  },
  {
   "cell_type": "code",
   "execution_count": 45,
   "id": "93400af7-95fd-4fea-af61-db8d864d0831",
   "metadata": {},
   "outputs": [],
   "source": [
    "# Create DataLoader for training and validation datasets\n",
    "# PyTorch DataLoaders wrap iterable around a Dataset to access samples easily\n",
    "# We typically pass in minibatches and reshuffle data at epochs to reduce overfitting\n",
    "# DataLoaders leverage python's multiprocessing to speed up data retrieval\n",
    "\n",
    "# take training samples in random order\n",
    "train_dataloader = DataLoader(train_dataset,\n",
    "                              sampler=RandomSampler(train_dataset),\n",
    "                              batch_size=batch_size)\n",
    "\n",
    "# For validation, the order doesn't matter, so we read sequentially\n",
    "validation_dataloader = DataLoader(val_dataset,\n",
    "                                   sampler=SequentialSampler(val_dataset),\n",
    "                                   batch_size=batch_size)"
   ]
  },
  {
   "cell_type": "code",
   "execution_count": 46,
   "id": "ab14844a-0bee-425d-9036-8b9e93c43f48",
   "metadata": {},
   "outputs": [],
   "source": [
    "# config to instantiate model\n",
    "configuration = GPT2Config.from_pretrained(model_name, output_hidden_states=False)\n"
   ]
  },
  {
   "cell_type": "code",
   "execution_count": 47,
   "id": "9f2b34ca-76bd-4c8d-a2fa-820003e6efba",
   "metadata": {},
   "outputs": [],
   "source": [
    "# instantiate model\n",
    "model = GPT2LMHeadModel.from_pretrained(model_name, config=configuration)\n"
   ]
  },
  {
   "cell_type": "code",
   "execution_count": 48,
   "id": "9ffedcee-b6c7-43d8-b622-68527843efb7",
   "metadata": {},
   "outputs": [
    {
     "data": {
      "text/plain": [
       "Embedding(50259, 768)"
      ]
     },
     "execution_count": 48,
     "metadata": {},
     "output_type": "execute_result"
    }
   ],
   "source": [
    "# resize token embeddings for our custom tokens (e.g. bos_token)\n",
    "model.resize_token_embeddings(len(tokenizer))"
   ]
  },
  {
   "cell_type": "code",
   "execution_count": 49,
   "id": "b9dd3b69-eaea-4e7e-8de3-1d58a81ec9d0",
   "metadata": {},
   "outputs": [],
   "source": [
    "device = torch.device(\"cuda\")"
   ]
  },
  {
   "cell_type": "code",
   "execution_count": 50,
   "id": "9ae74060-8628-4706-b597-14b2d8597a31",
   "metadata": {},
   "outputs": [
    {
     "data": {
      "text/plain": [
       "GPT2LMHeadModel(\n",
       "  (transformer): GPT2Model(\n",
       "    (wte): Embedding(50259, 768)\n",
       "    (wpe): Embedding(1024, 768)\n",
       "    (drop): Dropout(p=0.1, inplace=False)\n",
       "    (h): ModuleList(\n",
       "      (0): GPT2Block(\n",
       "        (ln_1): LayerNorm((768,), eps=1e-05, elementwise_affine=True)\n",
       "        (attn): GPT2Attention(\n",
       "          (c_attn): Conv1D()\n",
       "          (c_proj): Conv1D()\n",
       "          (attn_dropout): Dropout(p=0.1, inplace=False)\n",
       "          (resid_dropout): Dropout(p=0.1, inplace=False)\n",
       "        )\n",
       "        (ln_2): LayerNorm((768,), eps=1e-05, elementwise_affine=True)\n",
       "        (mlp): GPT2MLP(\n",
       "          (c_fc): Conv1D()\n",
       "          (c_proj): Conv1D()\n",
       "          (act): NewGELUActivation()\n",
       "          (dropout): Dropout(p=0.1, inplace=False)\n",
       "        )\n",
       "      )\n",
       "      (1): GPT2Block(\n",
       "        (ln_1): LayerNorm((768,), eps=1e-05, elementwise_affine=True)\n",
       "        (attn): GPT2Attention(\n",
       "          (c_attn): Conv1D()\n",
       "          (c_proj): Conv1D()\n",
       "          (attn_dropout): Dropout(p=0.1, inplace=False)\n",
       "          (resid_dropout): Dropout(p=0.1, inplace=False)\n",
       "        )\n",
       "        (ln_2): LayerNorm((768,), eps=1e-05, elementwise_affine=True)\n",
       "        (mlp): GPT2MLP(\n",
       "          (c_fc): Conv1D()\n",
       "          (c_proj): Conv1D()\n",
       "          (act): NewGELUActivation()\n",
       "          (dropout): Dropout(p=0.1, inplace=False)\n",
       "        )\n",
       "      )\n",
       "      (2): GPT2Block(\n",
       "        (ln_1): LayerNorm((768,), eps=1e-05, elementwise_affine=True)\n",
       "        (attn): GPT2Attention(\n",
       "          (c_attn): Conv1D()\n",
       "          (c_proj): Conv1D()\n",
       "          (attn_dropout): Dropout(p=0.1, inplace=False)\n",
       "          (resid_dropout): Dropout(p=0.1, inplace=False)\n",
       "        )\n",
       "        (ln_2): LayerNorm((768,), eps=1e-05, elementwise_affine=True)\n",
       "        (mlp): GPT2MLP(\n",
       "          (c_fc): Conv1D()\n",
       "          (c_proj): Conv1D()\n",
       "          (act): NewGELUActivation()\n",
       "          (dropout): Dropout(p=0.1, inplace=False)\n",
       "        )\n",
       "      )\n",
       "      (3): GPT2Block(\n",
       "        (ln_1): LayerNorm((768,), eps=1e-05, elementwise_affine=True)\n",
       "        (attn): GPT2Attention(\n",
       "          (c_attn): Conv1D()\n",
       "          (c_proj): Conv1D()\n",
       "          (attn_dropout): Dropout(p=0.1, inplace=False)\n",
       "          (resid_dropout): Dropout(p=0.1, inplace=False)\n",
       "        )\n",
       "        (ln_2): LayerNorm((768,), eps=1e-05, elementwise_affine=True)\n",
       "        (mlp): GPT2MLP(\n",
       "          (c_fc): Conv1D()\n",
       "          (c_proj): Conv1D()\n",
       "          (act): NewGELUActivation()\n",
       "          (dropout): Dropout(p=0.1, inplace=False)\n",
       "        )\n",
       "      )\n",
       "      (4): GPT2Block(\n",
       "        (ln_1): LayerNorm((768,), eps=1e-05, elementwise_affine=True)\n",
       "        (attn): GPT2Attention(\n",
       "          (c_attn): Conv1D()\n",
       "          (c_proj): Conv1D()\n",
       "          (attn_dropout): Dropout(p=0.1, inplace=False)\n",
       "          (resid_dropout): Dropout(p=0.1, inplace=False)\n",
       "        )\n",
       "        (ln_2): LayerNorm((768,), eps=1e-05, elementwise_affine=True)\n",
       "        (mlp): GPT2MLP(\n",
       "          (c_fc): Conv1D()\n",
       "          (c_proj): Conv1D()\n",
       "          (act): NewGELUActivation()\n",
       "          (dropout): Dropout(p=0.1, inplace=False)\n",
       "        )\n",
       "      )\n",
       "      (5): GPT2Block(\n",
       "        (ln_1): LayerNorm((768,), eps=1e-05, elementwise_affine=True)\n",
       "        (attn): GPT2Attention(\n",
       "          (c_attn): Conv1D()\n",
       "          (c_proj): Conv1D()\n",
       "          (attn_dropout): Dropout(p=0.1, inplace=False)\n",
       "          (resid_dropout): Dropout(p=0.1, inplace=False)\n",
       "        )\n",
       "        (ln_2): LayerNorm((768,), eps=1e-05, elementwise_affine=True)\n",
       "        (mlp): GPT2MLP(\n",
       "          (c_fc): Conv1D()\n",
       "          (c_proj): Conv1D()\n",
       "          (act): NewGELUActivation()\n",
       "          (dropout): Dropout(p=0.1, inplace=False)\n",
       "        )\n",
       "      )\n",
       "      (6): GPT2Block(\n",
       "        (ln_1): LayerNorm((768,), eps=1e-05, elementwise_affine=True)\n",
       "        (attn): GPT2Attention(\n",
       "          (c_attn): Conv1D()\n",
       "          (c_proj): Conv1D()\n",
       "          (attn_dropout): Dropout(p=0.1, inplace=False)\n",
       "          (resid_dropout): Dropout(p=0.1, inplace=False)\n",
       "        )\n",
       "        (ln_2): LayerNorm((768,), eps=1e-05, elementwise_affine=True)\n",
       "        (mlp): GPT2MLP(\n",
       "          (c_fc): Conv1D()\n",
       "          (c_proj): Conv1D()\n",
       "          (act): NewGELUActivation()\n",
       "          (dropout): Dropout(p=0.1, inplace=False)\n",
       "        )\n",
       "      )\n",
       "      (7): GPT2Block(\n",
       "        (ln_1): LayerNorm((768,), eps=1e-05, elementwise_affine=True)\n",
       "        (attn): GPT2Attention(\n",
       "          (c_attn): Conv1D()\n",
       "          (c_proj): Conv1D()\n",
       "          (attn_dropout): Dropout(p=0.1, inplace=False)\n",
       "          (resid_dropout): Dropout(p=0.1, inplace=False)\n",
       "        )\n",
       "        (ln_2): LayerNorm((768,), eps=1e-05, elementwise_affine=True)\n",
       "        (mlp): GPT2MLP(\n",
       "          (c_fc): Conv1D()\n",
       "          (c_proj): Conv1D()\n",
       "          (act): NewGELUActivation()\n",
       "          (dropout): Dropout(p=0.1, inplace=False)\n",
       "        )\n",
       "      )\n",
       "      (8): GPT2Block(\n",
       "        (ln_1): LayerNorm((768,), eps=1e-05, elementwise_affine=True)\n",
       "        (attn): GPT2Attention(\n",
       "          (c_attn): Conv1D()\n",
       "          (c_proj): Conv1D()\n",
       "          (attn_dropout): Dropout(p=0.1, inplace=False)\n",
       "          (resid_dropout): Dropout(p=0.1, inplace=False)\n",
       "        )\n",
       "        (ln_2): LayerNorm((768,), eps=1e-05, elementwise_affine=True)\n",
       "        (mlp): GPT2MLP(\n",
       "          (c_fc): Conv1D()\n",
       "          (c_proj): Conv1D()\n",
       "          (act): NewGELUActivation()\n",
       "          (dropout): Dropout(p=0.1, inplace=False)\n",
       "        )\n",
       "      )\n",
       "      (9): GPT2Block(\n",
       "        (ln_1): LayerNorm((768,), eps=1e-05, elementwise_affine=True)\n",
       "        (attn): GPT2Attention(\n",
       "          (c_attn): Conv1D()\n",
       "          (c_proj): Conv1D()\n",
       "          (attn_dropout): Dropout(p=0.1, inplace=False)\n",
       "          (resid_dropout): Dropout(p=0.1, inplace=False)\n",
       "        )\n",
       "        (ln_2): LayerNorm((768,), eps=1e-05, elementwise_affine=True)\n",
       "        (mlp): GPT2MLP(\n",
       "          (c_fc): Conv1D()\n",
       "          (c_proj): Conv1D()\n",
       "          (act): NewGELUActivation()\n",
       "          (dropout): Dropout(p=0.1, inplace=False)\n",
       "        )\n",
       "      )\n",
       "      (10): GPT2Block(\n",
       "        (ln_1): LayerNorm((768,), eps=1e-05, elementwise_affine=True)\n",
       "        (attn): GPT2Attention(\n",
       "          (c_attn): Conv1D()\n",
       "          (c_proj): Conv1D()\n",
       "          (attn_dropout): Dropout(p=0.1, inplace=False)\n",
       "          (resid_dropout): Dropout(p=0.1, inplace=False)\n",
       "        )\n",
       "        (ln_2): LayerNorm((768,), eps=1e-05, elementwise_affine=True)\n",
       "        (mlp): GPT2MLP(\n",
       "          (c_fc): Conv1D()\n",
       "          (c_proj): Conv1D()\n",
       "          (act): NewGELUActivation()\n",
       "          (dropout): Dropout(p=0.1, inplace=False)\n",
       "        )\n",
       "      )\n",
       "      (11): GPT2Block(\n",
       "        (ln_1): LayerNorm((768,), eps=1e-05, elementwise_affine=True)\n",
       "        (attn): GPT2Attention(\n",
       "          (c_attn): Conv1D()\n",
       "          (c_proj): Conv1D()\n",
       "          (attn_dropout): Dropout(p=0.1, inplace=False)\n",
       "          (resid_dropout): Dropout(p=0.1, inplace=False)\n",
       "        )\n",
       "        (ln_2): LayerNorm((768,), eps=1e-05, elementwise_affine=True)\n",
       "        (mlp): GPT2MLP(\n",
       "          (c_fc): Conv1D()\n",
       "          (c_proj): Conv1D()\n",
       "          (act): NewGELUActivation()\n",
       "          (dropout): Dropout(p=0.1, inplace=False)\n",
       "        )\n",
       "      )\n",
       "    )\n",
       "    (ln_f): LayerNorm((768,), eps=1e-05, elementwise_affine=True)\n",
       "  )\n",
       "  (lm_head): Linear(in_features=768, out_features=50259, bias=False)\n",
       ")"
      ]
     },
     "execution_count": 50,
     "metadata": {},
     "output_type": "execute_result"
    }
   ],
   "source": [
    "# sends model to current device - in this case CUDA\n",
    "model.cuda()"
   ]
  },
  {
   "cell_type": "code",
   "execution_count": 51,
   "id": "f5dc18a1-03e3-4c02-8d84-6e05af269bcc",
   "metadata": {},
   "outputs": [],
   "source": [
    "# Set the seed value\n",
    "seed_val = int(hyperparameters['seed'])\n",
    "random.seed(seed_val)\n",
    "np.random.seed(seed_val)\n",
    "torch.manual_seed(seed_val)\n",
    "torch.cuda.manual_seed_all(seed_val)"
   ]
  },
  {
   "cell_type": "code",
   "execution_count": 35,
   "id": "8f7befc2-c1be-4193-9a26-79debc388bb9",
   "metadata": {},
   "outputs": [
    {
     "name": "stderr",
     "output_type": "stream",
     "text": [
      "\u001b[34m\u001b[1mwandb\u001b[0m: Currently logged in as: \u001b[33mandrewbrown\u001b[0m. Use \u001b[1m`wandb login --relogin`\u001b[0m to force relogin\n",
      "time=\"2023-02-21T18:14:05Z\" level=fatal msg=\"Failed to discover neuron devices\" error=\"Unable to read device information from the driver. Make sure aws-neuron-dkms is installed and the neuron driver is accessible.\"\n"
     ]
    },
    {
     "data": {
      "text/html": [
       "wandb version 0.13.10 is available!  To upgrade, please run:\n",
       " $ pip install wandb --upgrade"
      ],
      "text/plain": [
       "<IPython.core.display.HTML object>"
      ]
     },
     "metadata": {},
     "output_type": "display_data"
    },
    {
     "data": {
      "text/html": [
       "Tracking run with wandb version 0.13.9"
      ],
      "text/plain": [
       "<IPython.core.display.HTML object>"
      ]
     },
     "metadata": {},
     "output_type": "display_data"
    },
    {
     "data": {
      "text/html": [
       "Run data is saved locally in <code>/home/ubuntu/transformer-fine-tune/notebooks/wandb/run-20230221_181404-09pk3p2g</code>"
      ],
      "text/plain": [
       "<IPython.core.display.HTML object>"
      ]
     },
     "metadata": {},
     "output_type": "display_data"
    },
    {
     "data": {
      "text/html": [
       "Syncing run <strong><a href=\"https://wandb.ai/andrewbrown/gpt2-sweep-reflector/runs/09pk3p2g\" target=\"_blank\">jumping-surf-20</a></strong> to <a href=\"https://wandb.ai/andrewbrown/gpt2-sweep-reflector\" target=\"_blank\">Weights & Biases</a> (<a href=\"https://wandb.me/run\" target=\"_blank\">docs</a>)<br/>"
      ],
      "text/plain": [
       "<IPython.core.display.HTML object>"
      ]
     },
     "metadata": {},
     "output_type": "display_data"
    },
    {
     "data": {
      "text/html": [
       " View project at <a href=\"https://wandb.ai/andrewbrown/gpt2-sweep-reflector\" target=\"_blank\">https://wandb.ai/andrewbrown/gpt2-sweep-reflector</a>"
      ],
      "text/plain": [
       "<IPython.core.display.HTML object>"
      ]
     },
     "metadata": {},
     "output_type": "display_data"
    },
    {
     "data": {
      "text/html": [
       " View run at <a href=\"https://wandb.ai/andrewbrown/gpt2-sweep-reflector/runs/09pk3p2g\" target=\"_blank\">https://wandb.ai/andrewbrown/gpt2-sweep-reflector/runs/09pk3p2g</a>"
      ],
      "text/plain": [
       "<IPython.core.display.HTML object>"
      ]
     },
     "metadata": {},
     "output_type": "display_data"
    },
    {
     "data": {
      "text/html": [
       "<button onClick=\"this.nextSibling.style.display='block';this.style.display='none';\">Display W&B run</button><iframe src=\"https://wandb.ai/andrewbrown/gpt2-sweep-reflector/runs/09pk3p2g?jupyter=true\" style=\"border:none;width:100%;height:420px;display:none;\"></iframe>"
      ],
      "text/plain": [
       "<wandb.sdk.wandb_run.Run at 0x7f4168363450>"
      ]
     },
     "execution_count": 35,
     "metadata": {},
     "output_type": "execute_result"
    }
   ],
   "source": [
    "wandb.init(\n",
    "  project=\"gpt2-sweep-reflector\",\n",
    "  notes=\"Trying to sweep gpt2 reflector\",\n",
    "  tags=[\"gpt2\", \"reflector\", \"sweep\"],\n",
    ")"
   ]
  },
  {
   "cell_type": "code",
   "execution_count": 52,
   "id": "5e37c038-3708-4c95-97d6-74f362438bd2",
   "metadata": {},
   "outputs": [
    {
     "data": {
      "text/plain": [
       "{'find_hyperparams_automatically': False,\n",
       " 'num_trials': 10,\n",
       " 'fp16': True,\n",
       " 'deepspeed': True,\n",
       " 'grad_accumulation_steps': 2,\n",
       " 'eval_batch_size': 1,\n",
       " 'learning_rate': 0.0002,\n",
       " 'epochs': 20,\n",
       " 'warmup_steps': '1e2',\n",
       " 'epsilon': '3e-8',\n",
       " 'batch_size': 1,\n",
       " 'sample_every': 100,\n",
       " 'seed': 42,\n",
       " 'eval_steps': 10,\n",
       " 'weight_decay': 0.01}"
      ]
     },
     "execution_count": 52,
     "metadata": {},
     "output_type": "execute_result"
    }
   ],
   "source": [
    "hyperparameters"
   ]
  },
  {
   "cell_type": "code",
   "execution_count": 53,
   "id": "ab210284-b099-4bed-bdd5-63a2fcf5bf6b",
   "metadata": {},
   "outputs": [],
   "source": [
    "wandb.config.update(config_dict)"
   ]
  },
  {
   "cell_type": "code",
   "execution_count": 54,
   "id": "4590f1bd-04a3-42a7-974e-8d94530b2feb",
   "metadata": {},
   "outputs": [
    {
     "name": "stderr",
     "output_type": "stream",
     "text": [
      "/home/ubuntu/anaconda3/envs/torch_p37/lib/python3.7/site-packages/transformers/optimization.py:310: FutureWarning: This implementation of AdamW is deprecated and will be removed in a future version. Use the PyTorch implementation torch.optim.AdamW instead, or set `no_deprecation_warning=True` to disable this warning\n",
      "  FutureWarning,\n"
     ]
    }
   ],
   "source": [
    "# Note: AdamW is a class from the huggingface library (as opposed to pytorch)\n",
    "optimizer = AdamW(model.parameters(),\n",
    "                  lr = learning_rate,\n",
    "                  eps = epsilon\n",
    "                )"
   ]
  },
  {
   "cell_type": "code",
   "execution_count": 55,
   "id": "c625280e-dc33-4659-a9f6-049fafc486a4",
   "metadata": {},
   "outputs": [],
   "source": [
    "# Total num training steps is [num batches] x [num epochs]\n",
    "# (not the same number as num training sample)\n",
    "total_steps = len(train_dataloader) * epochs"
   ]
  },
  {
   "cell_type": "code",
   "execution_count": 56,
   "id": "38367cca-ce12-4eb0-bebc-81ebccc4bd5d",
   "metadata": {},
   "outputs": [],
   "source": [
    "# Create learning rate scheduler\n",
    "# we schedule learning rate using \n",
    "# optimzer, num_warmup steps, and num_training steps\n",
    "scheduler = get_linear_schedule_with_warmup(optimizer,\n",
    "                                            num_warmup_steps=warmup_steps,\n",
    "                                            num_training_steps=total_steps)"
   ]
  },
  {
   "cell_type": "code",
   "execution_count": 57,
   "id": "bdba5811-ed9e-4393-94d7-94ee67da836f",
   "metadata": {},
   "outputs": [],
   "source": [
    "def format_time(elapsed):\n",
    "    return str(datetime.timedelta(seconds=int(round((elapsed)))))"
   ]
  },
  {
   "cell_type": "code",
   "execution_count": 103,
   "id": "53c41e7c-1f89-4bd7-a0d8-88f53e7c87a6",
   "metadata": {},
   "outputs": [],
   "source": [
    "sweep_config = {\n",
    "    'method': 'grid',\n",
    "    'name': 'gpt2-xl Grid Sweep',\n",
    "    'metric': {'goal': 'minimize', 'name': 'train_acc'},\n",
    "    \n",
    "    # parameters is the nested dictionary of hyperparameters we are sweeping\n",
    "    'parameters': \n",
    "    {\n",
    "        'batch_size': {'values': [1]},\n",
    "        'epochs': {'values': [5, 10, 15]},\n",
    "        'learning_rate': {\n",
    "        # a flat distribution between 0 and 0.1\n",
    "        'distribution': 'uniform',\n",
    "        'min': 0,\n",
    "        'max': 0.1},\n",
    "     }\n",
    "}"
   ]
  },
  {
   "cell_type": "code",
   "execution_count": 104,
   "id": "b3cc521f-693e-452a-84ed-0cff6f0ee7f5",
   "metadata": {},
   "outputs": [
    {
     "name": "stdout",
     "output_type": "stream",
     "text": [
      "Create sweep with ID: 3n2rw2r6\n",
      "Sweep URL: https://wandb.ai/andrewbrown/gpt2-sweep-reflector/sweeps/3n2rw2r6\n"
     ]
    }
   ],
   "source": [
    "sweep_id = wandb.sweep(sweep_config, project=\"gpt2-sweep-reflector\")"
   ]
  },
  {
   "cell_type": "code",
   "execution_count": 105,
   "id": "7c54b1ab-0234-4a0f-8330-959d07ca9b6a",
   "metadata": {},
   "outputs": [
    {
     "data": {
      "text/html": [
       "Changes to your `wandb` environment variables will be ignored because your `wandb` session has already started. For more information on how to modify your settings with `wandb.init()` arguments, please refer to <a href=\"https://wandb.me/wandb-init\" target=\"_blank\">the W&B docs</a>."
      ],
      "text/plain": [
       "<IPython.core.display.HTML object>"
      ]
     },
     "metadata": {},
     "output_type": "display_data"
    },
    {
     "name": "stderr",
     "output_type": "stream",
     "text": [
      "time=\"2023-02-20T04:23:01Z\" level=fatal msg=\"Failed to discover neuron devices\" error=\"Unable to read device information from the driver. Make sure aws-neuron-dkms is installed and the neuron driver is accessible.\"\n"
     ]
    },
    {
     "data": {
      "text/html": [
       "wandb version 0.13.10 is available!  To upgrade, please run:\n",
       " $ pip install wandb --upgrade"
      ],
      "text/plain": [
       "<IPython.core.display.HTML object>"
      ]
     },
     "metadata": {},
     "output_type": "display_data"
    },
    {
     "data": {
      "text/html": [
       "Tracking run with wandb version 0.13.9"
      ],
      "text/plain": [
       "<IPython.core.display.HTML object>"
      ]
     },
     "metadata": {},
     "output_type": "display_data"
    },
    {
     "data": {
      "text/html": [
       "Run data is saved locally in <code>/home/ubuntu/transformer-fine-tune/notebooks/wandb/run-20230220_042301-r2kfyqs6</code>"
      ],
      "text/plain": [
       "<IPython.core.display.HTML object>"
      ]
     },
     "metadata": {},
     "output_type": "display_data"
    },
    {
     "data": {
      "text/html": [
       "Syncing run <strong><a href=\"https://wandb.ai/andrewbrown/gpt2-sweep-reflector/runs/r2kfyqs6\" target=\"_blank\">misunderstood-rain-12</a></strong> to <a href=\"https://wandb.ai/andrewbrown/gpt2-sweep-reflector\" target=\"_blank\">Weights & Biases</a> (<a href=\"https://wandb.me/run\" target=\"_blank\">docs</a>)<br/>"
      ],
      "text/plain": [
       "<IPython.core.display.HTML object>"
      ]
     },
     "metadata": {},
     "output_type": "display_data"
    },
    {
     "data": {
      "text/html": [
       " View project at <a href=\"https://wandb.ai/andrewbrown/gpt2-sweep-reflector\" target=\"_blank\">https://wandb.ai/andrewbrown/gpt2-sweep-reflector</a>"
      ],
      "text/plain": [
       "<IPython.core.display.HTML object>"
      ]
     },
     "metadata": {},
     "output_type": "display_data"
    },
    {
     "data": {
      "text/html": [
       " View run at <a href=\"https://wandb.ai/andrewbrown/gpt2-sweep-reflector/runs/r2kfyqs6\" target=\"_blank\">https://wandb.ai/andrewbrown/gpt2-sweep-reflector/runs/r2kfyqs6</a>"
      ],
      "text/plain": [
       "<IPython.core.display.HTML object>"
      ]
     },
     "metadata": {},
     "output_type": "display_data"
    },
    {
     "data": {
      "text/html": [
       "<button onClick=\"this.nextSibling.style.display='block';this.style.display='none';\">Display W&B run</button><iframe src=\"https://wandb.ai/andrewbrown/gpt2-sweep-reflector/runs/r2kfyqs6?jupyter=true\" style=\"border:none;width:100%;height:420px;display:none;\"></iframe>"
      ],
      "text/plain": [
       "<wandb.sdk.wandb_run.Run at 0x7f6a4432c610>"
      ]
     },
     "execution_count": 105,
     "metadata": {},
     "output_type": "execute_result"
    }
   ],
   "source": [
    "wandb.init(\n",
    "  project=\"gpt2-sweep-reflector\",\n",
    "  config=config_dict,\n",
    "  notes=\"Trying to sweep gpt2 reflector\",\n",
    "  tags=[\"gpt2\", \"reflector\", \"sweep\"],\n",
    ")"
   ]
  },
  {
   "cell_type": "code",
   "execution_count": 56,
   "id": "ccd88d87-d526-4edc-bb72-dafdf4811c6e",
   "metadata": {},
   "outputs": [],
   "source": [
    "class GPT2Dataset(Dataset):\n",
    "    # Inherits Dataset from PyTorch, a data primitive which\n",
    "    # stores samples and corresponding labels\n",
    "    # custom Dataset needs init, len, and getitem\n",
    "    # init runs once when instantiating Dataset object\n",
    "    def __init__(self, txt_list, tokenzier, gpt2_type='gpt2', max_length=768):\n",
    "        self.tokenizer = tokenizer,\n",
    "        self.input_ids = []\n",
    "        self.attn_masks = []\n",
    "        \n",
    "        # for each text list, encode it using tokenizer then unpacl encodings dict into:\n",
    "        # input_ids: numerical representations of our tokens\n",
    "        # attn_masks: indicates which tokens should be attended to (and which are pads)\n",
    "        for txt in txt_list:\n",
    "            # tokenize the txt with a custom start and end token\n",
    "            # encodings dict contains both our token input ids and attention mask\n",
    "            # truncation will clip sentences that are too long\n",
    "            # padding adds pad tokens until we reach max input sentence length 768\n",
    "            encodings_dict = tokenizer('<|startoftext|>'+ txt + '<|endoftext|>', truncation=True, max_length=max_length, padding=\"max_length\")\n",
    "            \n",
    "            self.input_ids.append(torch.tensor(encodings_dict['input_ids']))\n",
    "            self.attn_masks.append(torch.tensor(encodings_dict['attention_mask']))\n",
    "    # overrides len() to returns the number of samples in our dataset\n",
    "    def __len__(self):\n",
    "        return len(self.input_ids)\n",
    "    # loads and returns a sample from dataset at given index idx\n",
    "    # sometimes we need to do type swapping in getitem, but not here\n",
    "    def __getitem__(self, idx):\n",
    "        return self.input_ids[idx], self.attn_masks[idx]\n",
    "            \n",
    "def build_dataset(triplets, tokenizer, batch_size, max_length=768):\n",
    "    dataset = GPT2Dataset(triplets, tokenizer, max_length=768)\n",
    "    return DataLoader(dataset, sampler=RandomSampler(dataset), batch_size=batch_size)"
   ]
  },
  {
   "cell_type": "code",
   "execution_count": 57,
   "id": "53d1f543-ed25-4df4-9988-a387ff05cd39",
   "metadata": {},
   "outputs": [],
   "source": [
    "# Note: AdamW is a class from the huggingface library (as opposed to pytorch)\n",
    "def build_optimizer(model, learning_rate, epsilon):\n",
    "    return AdamW(model.parameters(), lr = learning_rate, eps = epsilon)"
   ]
  },
  {
   "cell_type": "code",
   "execution_count": 110,
   "id": "8643bc2d-72cc-4ec3-ad7b-be249af0bc5b",
   "metadata": {},
   "outputs": [],
   "source": [
    "def train():\n",
    "    path_to_config = \"../configs/gpt2-refl-19-feb-2023.yaml\"\n",
    "    # open yaml config as a strema and load into config_dict\n",
    "    with open(path_to_config, \"r\") as stream:\n",
    "        try:\n",
    "            config_dict = yaml.safe_load(stream)\n",
    "        except yaml.YAMLError as exc:\n",
    "            print(\"Configuration load failed!\")\n",
    "            print(exc)\n",
    "    # Initialize a new wandb run\n",
    "    with wandb.init(project=\"gpt2-sweep-reflector\", config=config_dict, notes=\"Trying to sweep gpt2 reflector\",tags=[\"gpt2\", \"reflector\", \"sweep\"]):\n",
    "        # If called by wandb.agent, as below,\n",
    "        # this config will be set by Sweep Controller\n",
    "        config = wandb.config\n",
    "        batch_size = int(config.training_settings['hyperparameters']['batch_size'])\n",
    "        learning_rate = float(config.training_settings['hyperparameters']['learning_rate'])\n",
    "        epsilon = float(config.training_settings['hyperparameters']['epsilon'])\n",
    "        epochs = int(config.training_settings['hyperparameters']['epochs'])\n",
    "\n",
    "        loader = build_dataset(triplets, tokenizer, batch_size, max_length=768)\n",
    "        # not varying model architecture\n",
    "        #network = build_network(config.fc_layer_size, config.dropout)\n",
    "        optimizer = build_optimizer(model, learning_rate, epsilon)\n",
    "        for epoch in range(epochs):\n",
    "            avg_loss = train_epoch(model, loader, optimizer)\n",
    "            wandb.log({\"loss\": avg_loss, \"epoch\": epoch})    "
   ]
  },
  {
   "cell_type": "code",
   "execution_count": 111,
   "id": "a36bfbbf-4cf5-4df5-8e38-3f0c7380b5b4",
   "metadata": {},
   "outputs": [
    {
     "name": "stderr",
     "output_type": "stream",
     "text": [
      "\u001b[34m\u001b[1mwandb\u001b[0m: Agent Starting Run: wnyy3e9u with config:\n",
      "\u001b[34m\u001b[1mwandb\u001b[0m: \tbatch_size: 1\n",
      "\u001b[34m\u001b[1mwandb\u001b[0m: \tepochs: 5\n",
      "\u001b[34m\u001b[1mwandb\u001b[0m: \tlearning_rate: 0.03908492653710586\n",
      "\u001b[34m\u001b[1mwandb\u001b[0m: \u001b[33mWARNING\u001b[0m Ignored wandb.init() arg project when running a sweep.\n",
      "time=\"2023-02-20T04:27:18Z\" level=fatal msg=\"Failed to discover neuron devices\" error=\"Unable to read device information from the driver. Make sure aws-neuron-dkms is installed and the neuron driver is accessible.\"\n"
     ]
    },
    {
     "data": {
      "text/html": [
       "wandb version 0.13.10 is available!  To upgrade, please run:\n",
       " $ pip install wandb --upgrade"
      ],
      "text/plain": [
       "<IPython.core.display.HTML object>"
      ]
     },
     "metadata": {},
     "output_type": "display_data"
    },
    {
     "data": {
      "text/html": [
       "Tracking run with wandb version 0.13.9"
      ],
      "text/plain": [
       "<IPython.core.display.HTML object>"
      ]
     },
     "metadata": {},
     "output_type": "display_data"
    },
    {
     "data": {
      "text/html": [
       "Run data is saved locally in <code>/home/ubuntu/transformer-fine-tune/notebooks/wandb/run-20230220_042717-wnyy3e9u</code>"
      ],
      "text/plain": [
       "<IPython.core.display.HTML object>"
      ]
     },
     "metadata": {},
     "output_type": "display_data"
    },
    {
     "data": {
      "text/html": [
       "Syncing run <strong><a href=\"https://wandb.ai/andrewbrown/gpt2-sweep-reflector/runs/wnyy3e9u\" target=\"_blank\">icy-sweep-4</a></strong> to <a href=\"https://wandb.ai/andrewbrown/gpt2-sweep-reflector\" target=\"_blank\">Weights & Biases</a> (<a href=\"https://wandb.me/run\" target=\"_blank\">docs</a>)<br/>Sweep page: <a href=\"https://wandb.ai/andrewbrown/gpt2-sweep-reflector/sweeps/3n2rw2r6\" target=\"_blank\">https://wandb.ai/andrewbrown/gpt2-sweep-reflector/sweeps/3n2rw2r6</a>"
      ],
      "text/plain": [
       "<IPython.core.display.HTML object>"
      ]
     },
     "metadata": {},
     "output_type": "display_data"
    },
    {
     "data": {
      "text/html": [
       " View project at <a href=\"https://wandb.ai/andrewbrown/gpt2-sweep-reflector\" target=\"_blank\">https://wandb.ai/andrewbrown/gpt2-sweep-reflector</a>"
      ],
      "text/plain": [
       "<IPython.core.display.HTML object>"
      ]
     },
     "metadata": {},
     "output_type": "display_data"
    },
    {
     "data": {
      "text/html": [
       " View sweep at <a href=\"https://wandb.ai/andrewbrown/gpt2-sweep-reflector/sweeps/3n2rw2r6\" target=\"_blank\">https://wandb.ai/andrewbrown/gpt2-sweep-reflector/sweeps/3n2rw2r6</a>"
      ],
      "text/plain": [
       "<IPython.core.display.HTML object>"
      ]
     },
     "metadata": {},
     "output_type": "display_data"
    },
    {
     "data": {
      "text/html": [
       " View run at <a href=\"https://wandb.ai/andrewbrown/gpt2-sweep-reflector/runs/wnyy3e9u\" target=\"_blank\">https://wandb.ai/andrewbrown/gpt2-sweep-reflector/runs/wnyy3e9u</a>"
      ],
      "text/plain": [
       "<IPython.core.display.HTML object>"
      ]
     },
     "metadata": {},
     "output_type": "display_data"
    },
    {
     "name": "stderr",
     "output_type": "stream",
     "text": [
      "/home/ubuntu/anaconda3/envs/torch_p37/lib/python3.7/site-packages/transformers/optimization.py:310: FutureWarning: This implementation of AdamW is deprecated and will be removed in a future version. Use the PyTorch implementation torch.optim.AdamW instead, or set `no_deprecation_warning=True` to disable this warning\n",
      "  FutureWarning,\n"
     ]
    },
    {
     "name": "stdout",
     "output_type": "stream",
     "text": [
      "---Training...---\n",
      "---Done Training Epoch!---\n",
      "---Training epoch took 0:01:15 ---\n",
      "---Training...---\n",
      "---Done Training Epoch!---\n",
      "---Training epoch took 0:01:18 ---\n",
      "---Training...---\n",
      "---Done Training Epoch!---\n",
      "---Training epoch took 0:01:20 ---\n",
      "---Training...---\n",
      "---Done Training Epoch!---\n",
      "---Training epoch took 0:01:21 ---\n",
      "---Training...---\n",
      "---Done Training Epoch!---\n",
      "---Training epoch took 0:01:20 ---\n",
      "---Training...---\n",
      "---Done Training Epoch!---\n",
      "---Training epoch took 0:01:21 ---\n",
      "---Training...---\n",
      "---Done Training Epoch!---\n",
      "---Training epoch took 0:01:21 ---\n",
      "---Training...---\n",
      "---Done Training Epoch!---\n",
      "---Training epoch took 0:01:16 ---\n",
      "---Training...---\n",
      "---Done Training Epoch!---\n",
      "---Training epoch took 0:01:14 ---\n",
      "---Training...---\n",
      "---Done Training Epoch!---\n",
      "---Training epoch took 0:01:15 ---\n",
      "---Training...---\n",
      "---Done Training Epoch!---\n",
      "---Training epoch took 0:01:16 ---\n",
      "---Training...---\n",
      "---Done Training Epoch!---\n",
      "---Training epoch took 0:01:19 ---\n",
      "---Training...---\n",
      "---Done Training Epoch!---\n",
      "---Training epoch took 0:01:18 ---\n",
      "---Training...---\n",
      "---Done Training Epoch!---\n",
      "---Training epoch took 0:01:15 ---\n",
      "---Training...---\n",
      "---Done Training Epoch!---\n",
      "---Training epoch took 0:01:15 ---\n",
      "---Training...---\n",
      "---Done Training Epoch!---\n",
      "---Training epoch took 0:01:14 ---\n",
      "---Training...---\n",
      "---Done Training Epoch!---\n",
      "---Training epoch took 0:01:15 ---\n",
      "---Training...---\n",
      "---Done Training Epoch!---\n",
      "---Training epoch took 0:01:14 ---\n",
      "---Training...---\n",
      "---Done Training Epoch!---\n",
      "---Training epoch took 0:01:15 ---\n",
      "---Training...---\n",
      "---Done Training Epoch!---\n",
      "---Training epoch took 0:01:17 ---\n"
     ]
    },
    {
     "data": {
      "text/html": [
       "Waiting for W&B process to finish... <strong style=\"color:green\">(success).</strong>"
      ],
      "text/plain": [
       "<IPython.core.display.HTML object>"
      ]
     },
     "metadata": {},
     "output_type": "display_data"
    },
    {
     "data": {
      "text/html": [
       "<style>\n",
       "    table.wandb td:nth-child(1) { padding: 0 10px; text-align: left ; width: auto;} td:nth-child(2) {text-align: left ; width: 100%}\n",
       "    .wandb-row { display: flex; flex-direction: row; flex-wrap: wrap; justify-content: flex-start; width: 100% }\n",
       "    .wandb-col { display: flex; flex-direction: column; flex-basis: 100%; flex: 1; padding: 10px; }\n",
       "    </style>\n",
       "<div class=\"wandb-row\"><div class=\"wandb-col\"><h3>Run history:</h3><br/><table class=\"wandb\"><tr><td>epoch</td><td>▁▁▂▂▂▃▃▄▄▄▅▅▅▆▆▇▇▇██</td></tr><tr><td>loss</td><td>█▅▄▃▂▂▂▂▁▁▁▁▁▁▁▁▁▁▁▁</td></tr></table><br/></div><div class=\"wandb-col\"><h3>Run summary:</h3><br/><table class=\"wandb\"><tr><td>epoch</td><td>19</td></tr><tr><td>loss</td><td>0.01397</td></tr></table><br/></div></div>"
      ],
      "text/plain": [
       "<IPython.core.display.HTML object>"
      ]
     },
     "metadata": {},
     "output_type": "display_data"
    },
    {
     "data": {
      "text/html": [
       " View run <strong style=\"color:#cdcd00\">icy-sweep-4</strong> at: <a href=\"https://wandb.ai/andrewbrown/gpt2-sweep-reflector/runs/wnyy3e9u\" target=\"_blank\">https://wandb.ai/andrewbrown/gpt2-sweep-reflector/runs/wnyy3e9u</a><br/>Synced 6 W&B file(s), 0 media file(s), 0 artifact file(s) and 0 other file(s)"
      ],
      "text/plain": [
       "<IPython.core.display.HTML object>"
      ]
     },
     "metadata": {},
     "output_type": "display_data"
    },
    {
     "data": {
      "text/html": [
       "Find logs at: <code>./wandb/run-20230220_042717-wnyy3e9u/logs</code>"
      ],
      "text/plain": [
       "<IPython.core.display.HTML object>"
      ]
     },
     "metadata": {},
     "output_type": "display_data"
    },
    {
     "name": "stderr",
     "output_type": "stream",
     "text": [
      "\u001b[34m\u001b[1mwandb\u001b[0m: Sweep Agent: Waiting for job.\n",
      "\u001b[34m\u001b[1mwandb\u001b[0m: Job received.\n",
      "\u001b[34m\u001b[1mwandb\u001b[0m: Agent Starting Run: rz26rorc with config:\n",
      "\u001b[34m\u001b[1mwandb\u001b[0m: \tbatch_size: 1\n",
      "\u001b[34m\u001b[1mwandb\u001b[0m: \tepochs: 5\n",
      "\u001b[34m\u001b[1mwandb\u001b[0m: \tlearning_rate: 0.002138355664066671\n",
      "\u001b[34m\u001b[1mwandb\u001b[0m: \u001b[33mWARNING\u001b[0m Ignored wandb.init() arg project when running a sweep.\n",
      "time=\"2023-02-20T04:53:23Z\" level=fatal msg=\"Failed to discover neuron devices\" error=\"Unable to read device information from the driver. Make sure aws-neuron-dkms is installed and the neuron driver is accessible.\"\n"
     ]
    },
    {
     "data": {
      "text/html": [
       "wandb version 0.13.10 is available!  To upgrade, please run:\n",
       " $ pip install wandb --upgrade"
      ],
      "text/plain": [
       "<IPython.core.display.HTML object>"
      ]
     },
     "metadata": {},
     "output_type": "display_data"
    },
    {
     "data": {
      "text/html": [
       "Tracking run with wandb version 0.13.9"
      ],
      "text/plain": [
       "<IPython.core.display.HTML object>"
      ]
     },
     "metadata": {},
     "output_type": "display_data"
    },
    {
     "data": {
      "text/html": [
       "Run data is saved locally in <code>/home/ubuntu/transformer-fine-tune/notebooks/wandb/run-20230220_045322-rz26rorc</code>"
      ],
      "text/plain": [
       "<IPython.core.display.HTML object>"
      ]
     },
     "metadata": {},
     "output_type": "display_data"
    },
    {
     "data": {
      "text/html": [
       "Syncing run <strong><a href=\"https://wandb.ai/andrewbrown/gpt2-sweep-reflector/runs/rz26rorc\" target=\"_blank\">autumn-sweep-5</a></strong> to <a href=\"https://wandb.ai/andrewbrown/gpt2-sweep-reflector\" target=\"_blank\">Weights & Biases</a> (<a href=\"https://wandb.me/run\" target=\"_blank\">docs</a>)<br/>Sweep page: <a href=\"https://wandb.ai/andrewbrown/gpt2-sweep-reflector/sweeps/3n2rw2r6\" target=\"_blank\">https://wandb.ai/andrewbrown/gpt2-sweep-reflector/sweeps/3n2rw2r6</a>"
      ],
      "text/plain": [
       "<IPython.core.display.HTML object>"
      ]
     },
     "metadata": {},
     "output_type": "display_data"
    },
    {
     "data": {
      "text/html": [
       " View project at <a href=\"https://wandb.ai/andrewbrown/gpt2-sweep-reflector\" target=\"_blank\">https://wandb.ai/andrewbrown/gpt2-sweep-reflector</a>"
      ],
      "text/plain": [
       "<IPython.core.display.HTML object>"
      ]
     },
     "metadata": {},
     "output_type": "display_data"
    },
    {
     "data": {
      "text/html": [
       " View sweep at <a href=\"https://wandb.ai/andrewbrown/gpt2-sweep-reflector/sweeps/3n2rw2r6\" target=\"_blank\">https://wandb.ai/andrewbrown/gpt2-sweep-reflector/sweeps/3n2rw2r6</a>"
      ],
      "text/plain": [
       "<IPython.core.display.HTML object>"
      ]
     },
     "metadata": {},
     "output_type": "display_data"
    },
    {
     "data": {
      "text/html": [
       " View run at <a href=\"https://wandb.ai/andrewbrown/gpt2-sweep-reflector/runs/rz26rorc\" target=\"_blank\">https://wandb.ai/andrewbrown/gpt2-sweep-reflector/runs/rz26rorc</a>"
      ],
      "text/plain": [
       "<IPython.core.display.HTML object>"
      ]
     },
     "metadata": {},
     "output_type": "display_data"
    },
    {
     "name": "stderr",
     "output_type": "stream",
     "text": [
      "/home/ubuntu/anaconda3/envs/torch_p37/lib/python3.7/site-packages/transformers/optimization.py:310: FutureWarning: This implementation of AdamW is deprecated and will be removed in a future version. Use the PyTorch implementation torch.optim.AdamW instead, or set `no_deprecation_warning=True` to disable this warning\n",
      "  FutureWarning,\n"
     ]
    },
    {
     "name": "stdout",
     "output_type": "stream",
     "text": [
      "---Training...---\n",
      "---Done Training Epoch!---\n",
      "---Training epoch took 0:01:15 ---\n",
      "---Training...---\n",
      "---Done Training Epoch!---\n",
      "---Training epoch took 0:01:15 ---\n",
      "---Training...---\n",
      "---Done Training Epoch!---\n",
      "---Training epoch took 0:01:16 ---\n",
      "---Training...---\n",
      "---Done Training Epoch!---\n",
      "---Training epoch took 0:01:15 ---\n",
      "---Training...---\n",
      "---Done Training Epoch!---\n",
      "---Training epoch took 0:01:16 ---\n",
      "---Training...---\n",
      "---Done Training Epoch!---\n",
      "---Training epoch took 0:01:17 ---\n",
      "---Training...---\n",
      "---Done Training Epoch!---\n",
      "---Training epoch took 0:01:20 ---\n",
      "---Training...---\n",
      "---Done Training Epoch!---\n",
      "---Training epoch took 0:01:22 ---\n",
      "---Training...---\n",
      "---Done Training Epoch!---\n",
      "---Training epoch took 0:01:19 ---\n",
      "---Training...---\n",
      "---Done Training Epoch!---\n",
      "---Training epoch took 0:01:17 ---\n",
      "---Training...---\n",
      "---Done Training Epoch!---\n",
      "---Training epoch took 0:01:17 ---\n",
      "---Training...---\n",
      "---Done Training Epoch!---\n",
      "---Training epoch took 0:01:17 ---\n",
      "---Training...---\n",
      "---Done Training Epoch!---\n",
      "---Training epoch took 0:01:16 ---\n",
      "---Training...---\n",
      "---Done Training Epoch!---\n",
      "---Training epoch took 0:01:16 ---\n",
      "---Training...---\n",
      "---Done Training Epoch!---\n",
      "---Training epoch took 0:01:16 ---\n",
      "---Training...---\n",
      "---Done Training Epoch!---\n",
      "---Training epoch took 0:01:17 ---\n",
      "---Training...---\n"
     ]
    },
    {
     "name": "stderr",
     "output_type": "stream",
     "text": [
      "wandb: ERROR Summary data exceeds maximum size of 10.4MB. Dropping it.\n"
     ]
    },
    {
     "name": "stdout",
     "output_type": "stream",
     "text": [
      "---Done Training Epoch!---\n",
      "---Training epoch took 0:01:19 ---\n",
      "---Training...---\n",
      "---Done Training Epoch!---\n",
      "---Training epoch took 0:01:19 ---\n",
      "---Training...---\n",
      "---Done Training Epoch!---\n",
      "---Training epoch took 0:01:17 ---\n",
      "---Training...---\n",
      "---Done Training Epoch!---\n",
      "---Training epoch took 0:01:17 ---\n"
     ]
    },
    {
     "data": {
      "text/html": [
       "Waiting for W&B process to finish... <strong style=\"color:green\">(success).</strong>"
      ],
      "text/plain": [
       "<IPython.core.display.HTML object>"
      ]
     },
     "metadata": {},
     "output_type": "display_data"
    },
    {
     "data": {
      "text/html": [
       "<style>\n",
       "    table.wandb td:nth-child(1) { padding: 0 10px; text-align: left ; width: auto;} td:nth-child(2) {text-align: left ; width: 100%}\n",
       "    .wandb-row { display: flex; flex-direction: row; flex-wrap: wrap; justify-content: flex-start; width: 100% }\n",
       "    .wandb-col { display: flex; flex-direction: column; flex-basis: 100%; flex: 1; padding: 10px; }\n",
       "    </style>\n",
       "<div class=\"wandb-row\"><div class=\"wandb-col\"><h3>Run history:</h3><br/><table class=\"wandb\"><tr><td>epoch</td><td>▁▁▂▂▂▃▃▄▄▄▅▅▅▆▆▇▇▇██</td></tr><tr><td>loss</td><td>▁▁▁▁▁█▁▁▁▁▁▁▁▁▁▁▁▁▁▁</td></tr></table><br/></div><div class=\"wandb-col\"><h3>Run summary:</h3><br/><table class=\"wandb\"><tr><td>epoch</td><td>19</td></tr><tr><td>loss</td><td>0.0089</td></tr></table><br/></div></div>"
      ],
      "text/plain": [
       "<IPython.core.display.HTML object>"
      ]
     },
     "metadata": {},
     "output_type": "display_data"
    },
    {
     "data": {
      "text/html": [
       " View run <strong style=\"color:#cdcd00\">autumn-sweep-5</strong> at: <a href=\"https://wandb.ai/andrewbrown/gpt2-sweep-reflector/runs/rz26rorc\" target=\"_blank\">https://wandb.ai/andrewbrown/gpt2-sweep-reflector/runs/rz26rorc</a><br/>Synced 6 W&B file(s), 0 media file(s), 0 artifact file(s) and 0 other file(s)"
      ],
      "text/plain": [
       "<IPython.core.display.HTML object>"
      ]
     },
     "metadata": {},
     "output_type": "display_data"
    },
    {
     "data": {
      "text/html": [
       "Find logs at: <code>./wandb/run-20230220_045322-rz26rorc/logs</code>"
      ],
      "text/plain": [
       "<IPython.core.display.HTML object>"
      ]
     },
     "metadata": {},
     "output_type": "display_data"
    },
    {
     "name": "stderr",
     "output_type": "stream",
     "text": [
      "\u001b[34m\u001b[1mwandb\u001b[0m: Agent Starting Run: mpxfhf28 with config:\n",
      "\u001b[34m\u001b[1mwandb\u001b[0m: \tbatch_size: 1\n",
      "\u001b[34m\u001b[1mwandb\u001b[0m: \tepochs: 5\n",
      "\u001b[34m\u001b[1mwandb\u001b[0m: \tlearning_rate: 0.07716695180056597\n",
      "\u001b[34m\u001b[1mwandb\u001b[0m: \u001b[33mWARNING\u001b[0m Ignored wandb.init() arg project when running a sweep.\n",
      "time=\"2023-02-20T05:19:24Z\" level=fatal msg=\"Failed to discover neuron devices\" error=\"Unable to read device information from the driver. Make sure aws-neuron-dkms is installed and the neuron driver is accessible.\"\n"
     ]
    },
    {
     "data": {
      "text/html": [
       "wandb version 0.13.10 is available!  To upgrade, please run:\n",
       " $ pip install wandb --upgrade"
      ],
      "text/plain": [
       "<IPython.core.display.HTML object>"
      ]
     },
     "metadata": {},
     "output_type": "display_data"
    },
    {
     "data": {
      "text/html": [
       "Tracking run with wandb version 0.13.9"
      ],
      "text/plain": [
       "<IPython.core.display.HTML object>"
      ]
     },
     "metadata": {},
     "output_type": "display_data"
    },
    {
     "data": {
      "text/html": [
       "Run data is saved locally in <code>/home/ubuntu/transformer-fine-tune/notebooks/wandb/run-20230220_051923-mpxfhf28</code>"
      ],
      "text/plain": [
       "<IPython.core.display.HTML object>"
      ]
     },
     "metadata": {},
     "output_type": "display_data"
    },
    {
     "data": {
      "text/html": [
       "Syncing run <strong><a href=\"https://wandb.ai/andrewbrown/gpt2-sweep-reflector/runs/mpxfhf28\" target=\"_blank\">upbeat-sweep-6</a></strong> to <a href=\"https://wandb.ai/andrewbrown/gpt2-sweep-reflector\" target=\"_blank\">Weights & Biases</a> (<a href=\"https://wandb.me/run\" target=\"_blank\">docs</a>)<br/>Sweep page: <a href=\"https://wandb.ai/andrewbrown/gpt2-sweep-reflector/sweeps/3n2rw2r6\" target=\"_blank\">https://wandb.ai/andrewbrown/gpt2-sweep-reflector/sweeps/3n2rw2r6</a>"
      ],
      "text/plain": [
       "<IPython.core.display.HTML object>"
      ]
     },
     "metadata": {},
     "output_type": "display_data"
    },
    {
     "data": {
      "text/html": [
       " View project at <a href=\"https://wandb.ai/andrewbrown/gpt2-sweep-reflector\" target=\"_blank\">https://wandb.ai/andrewbrown/gpt2-sweep-reflector</a>"
      ],
      "text/plain": [
       "<IPython.core.display.HTML object>"
      ]
     },
     "metadata": {},
     "output_type": "display_data"
    },
    {
     "data": {
      "text/html": [
       " View sweep at <a href=\"https://wandb.ai/andrewbrown/gpt2-sweep-reflector/sweeps/3n2rw2r6\" target=\"_blank\">https://wandb.ai/andrewbrown/gpt2-sweep-reflector/sweeps/3n2rw2r6</a>"
      ],
      "text/plain": [
       "<IPython.core.display.HTML object>"
      ]
     },
     "metadata": {},
     "output_type": "display_data"
    },
    {
     "data": {
      "text/html": [
       " View run at <a href=\"https://wandb.ai/andrewbrown/gpt2-sweep-reflector/runs/mpxfhf28\" target=\"_blank\">https://wandb.ai/andrewbrown/gpt2-sweep-reflector/runs/mpxfhf28</a>"
      ],
      "text/plain": [
       "<IPython.core.display.HTML object>"
      ]
     },
     "metadata": {},
     "output_type": "display_data"
    },
    {
     "name": "stderr",
     "output_type": "stream",
     "text": [
      "/home/ubuntu/anaconda3/envs/torch_p37/lib/python3.7/site-packages/transformers/optimization.py:310: FutureWarning: This implementation of AdamW is deprecated and will be removed in a future version. Use the PyTorch implementation torch.optim.AdamW instead, or set `no_deprecation_warning=True` to disable this warning\n",
      "  FutureWarning,\n"
     ]
    },
    {
     "name": "stdout",
     "output_type": "stream",
     "text": [
      "---Training...---\n",
      "---Done Training Epoch!---\n",
      "---Training epoch took 0:01:17 ---\n",
      "---Training...---\n",
      "---Done Training Epoch!---\n",
      "---Training epoch took 0:01:17 ---\n",
      "---Training...---\n",
      "---Done Training Epoch!---\n",
      "---Training epoch took 0:01:18 ---\n",
      "---Training...---\n"
     ]
    },
    {
     "name": "stderr",
     "output_type": "stream",
     "text": [
      "wandb: ERROR Summary data exceeds maximum size of 10.4MB. Dropping it.\n"
     ]
    },
    {
     "name": "stdout",
     "output_type": "stream",
     "text": [
      "---Done Training Epoch!---\n",
      "---Training epoch took 0:01:19 ---\n",
      "---Training...---\n",
      "---Done Training Epoch!---\n",
      "---Training epoch took 0:01:21 ---\n",
      "---Training...---\n",
      "---Done Training Epoch!---\n",
      "---Training epoch took 0:01:23 ---\n",
      "---Training...---\n",
      "---Done Training Epoch!---\n",
      "---Training epoch took 0:01:25 ---\n",
      "---Training...---\n",
      "---Done Training Epoch!---\n",
      "---Training epoch took 0:01:24 ---\n",
      "---Training...---\n",
      "---Done Training Epoch!---\n",
      "---Training epoch took 0:01:22 ---\n",
      "---Training...---\n",
      "---Done Training Epoch!---\n",
      "---Training epoch took 0:01:18 ---\n",
      "---Training...---\n",
      "---Done Training Epoch!---\n",
      "---Training epoch took 0:01:18 ---\n",
      "---Training...---\n",
      "---Done Training Epoch!---\n",
      "---Training epoch took 0:01:18 ---\n",
      "---Training...---\n",
      "---Done Training Epoch!---\n",
      "---Training epoch took 0:01:19 ---\n",
      "---Training...---\n",
      "---Done Training Epoch!---\n",
      "---Training epoch took 0:01:18 ---\n",
      "---Training...---\n",
      "---Done Training Epoch!---\n",
      "---Training epoch took 0:01:18 ---\n",
      "---Training...---\n",
      "---Done Training Epoch!---\n",
      "---Training epoch took 0:01:18 ---\n",
      "---Training...---\n",
      "---Done Training Epoch!---\n",
      "---Training epoch took 0:01:19 ---\n",
      "---Training...---\n",
      "---Done Training Epoch!---\n",
      "---Training epoch took 0:01:18 ---\n",
      "---Training...---\n",
      "---Done Training Epoch!---\n",
      "---Training epoch took 0:01:18 ---\n",
      "---Training...---\n",
      "---Done Training Epoch!---\n",
      "---Training epoch took 0:01:19 ---\n"
     ]
    },
    {
     "data": {
      "text/html": [
       "Waiting for W&B process to finish... <strong style=\"color:green\">(success).</strong>"
      ],
      "text/plain": [
       "<IPython.core.display.HTML object>"
      ]
     },
     "metadata": {},
     "output_type": "display_data"
    },
    {
     "data": {
      "text/html": [
       "<style>\n",
       "    table.wandb td:nth-child(1) { padding: 0 10px; text-align: left ; width: auto;} td:nth-child(2) {text-align: left ; width: 100%}\n",
       "    .wandb-row { display: flex; flex-direction: row; flex-wrap: wrap; justify-content: flex-start; width: 100% }\n",
       "    .wandb-col { display: flex; flex-direction: column; flex-basis: 100%; flex: 1; padding: 10px; }\n",
       "    </style>\n",
       "<div class=\"wandb-row\"><div class=\"wandb-col\"><h3>Run history:</h3><br/><table class=\"wandb\"><tr><td>epoch</td><td>▁▁▂▂▂▃▃▄▄▄▅▅▅▆▆▇▇▇██</td></tr><tr><td>loss</td><td>▅██▅▂▄▇▅▅▄▄▂▁▁▄▂▃▅▃▃</td></tr></table><br/></div><div class=\"wandb-col\"><h3>Run summary:</h3><br/><table class=\"wandb\"><tr><td>epoch</td><td>19</td></tr><tr><td>loss</td><td>0.0112</td></tr></table><br/></div></div>"
      ],
      "text/plain": [
       "<IPython.core.display.HTML object>"
      ]
     },
     "metadata": {},
     "output_type": "display_data"
    },
    {
     "data": {
      "text/html": [
       " View run <strong style=\"color:#cdcd00\">upbeat-sweep-6</strong> at: <a href=\"https://wandb.ai/andrewbrown/gpt2-sweep-reflector/runs/mpxfhf28\" target=\"_blank\">https://wandb.ai/andrewbrown/gpt2-sweep-reflector/runs/mpxfhf28</a><br/>Synced 6 W&B file(s), 0 media file(s), 0 artifact file(s) and 0 other file(s)"
      ],
      "text/plain": [
       "<IPython.core.display.HTML object>"
      ]
     },
     "metadata": {},
     "output_type": "display_data"
    },
    {
     "data": {
      "text/html": [
       "Find logs at: <code>./wandb/run-20230220_051923-mpxfhf28/logs</code>"
      ],
      "text/plain": [
       "<IPython.core.display.HTML object>"
      ]
     },
     "metadata": {},
     "output_type": "display_data"
    },
    {
     "name": "stderr",
     "output_type": "stream",
     "text": [
      "\u001b[34m\u001b[1mwandb\u001b[0m: Agent Starting Run: 4kmtoa5b with config:\n",
      "\u001b[34m\u001b[1mwandb\u001b[0m: \tbatch_size: 1\n",
      "\u001b[34m\u001b[1mwandb\u001b[0m: \tepochs: 10\n",
      "\u001b[34m\u001b[1mwandb\u001b[0m: \tlearning_rate: 0.016577142569395877\n",
      "\u001b[34m\u001b[1mwandb\u001b[0m: \u001b[33mWARNING\u001b[0m Ignored wandb.init() arg project when running a sweep.\n",
      "time=\"2023-02-20T05:46:09Z\" level=fatal msg=\"Failed to discover neuron devices\" error=\"Unable to read device information from the driver. Make sure aws-neuron-dkms is installed and the neuron driver is accessible.\"\n"
     ]
    },
    {
     "data": {
      "text/html": [
       "wandb version 0.13.10 is available!  To upgrade, please run:\n",
       " $ pip install wandb --upgrade"
      ],
      "text/plain": [
       "<IPython.core.display.HTML object>"
      ]
     },
     "metadata": {},
     "output_type": "display_data"
    },
    {
     "data": {
      "text/html": [
       "Tracking run with wandb version 0.13.9"
      ],
      "text/plain": [
       "<IPython.core.display.HTML object>"
      ]
     },
     "metadata": {},
     "output_type": "display_data"
    },
    {
     "data": {
      "text/html": [
       "Run data is saved locally in <code>/home/ubuntu/transformer-fine-tune/notebooks/wandb/run-20230220_054608-4kmtoa5b</code>"
      ],
      "text/plain": [
       "<IPython.core.display.HTML object>"
      ]
     },
     "metadata": {},
     "output_type": "display_data"
    },
    {
     "data": {
      "text/html": [
       "Syncing run <strong><a href=\"https://wandb.ai/andrewbrown/gpt2-sweep-reflector/runs/4kmtoa5b\" target=\"_blank\">hardy-sweep-1</a></strong> to <a href=\"https://wandb.ai/andrewbrown/gpt2-sweep-reflector\" target=\"_blank\">Weights & Biases</a> (<a href=\"https://wandb.me/run\" target=\"_blank\">docs</a>)<br/>Sweep page: <a href=\"https://wandb.ai/andrewbrown/gpt2-sweep-reflector/sweeps/3n2rw2r6\" target=\"_blank\">https://wandb.ai/andrewbrown/gpt2-sweep-reflector/sweeps/3n2rw2r6</a>"
      ],
      "text/plain": [
       "<IPython.core.display.HTML object>"
      ]
     },
     "metadata": {},
     "output_type": "display_data"
    },
    {
     "data": {
      "text/html": [
       " View project at <a href=\"https://wandb.ai/andrewbrown/gpt2-sweep-reflector\" target=\"_blank\">https://wandb.ai/andrewbrown/gpt2-sweep-reflector</a>"
      ],
      "text/plain": [
       "<IPython.core.display.HTML object>"
      ]
     },
     "metadata": {},
     "output_type": "display_data"
    },
    {
     "data": {
      "text/html": [
       " View sweep at <a href=\"https://wandb.ai/andrewbrown/gpt2-sweep-reflector/sweeps/3n2rw2r6\" target=\"_blank\">https://wandb.ai/andrewbrown/gpt2-sweep-reflector/sweeps/3n2rw2r6</a>"
      ],
      "text/plain": [
       "<IPython.core.display.HTML object>"
      ]
     },
     "metadata": {},
     "output_type": "display_data"
    },
    {
     "data": {
      "text/html": [
       " View run at <a href=\"https://wandb.ai/andrewbrown/gpt2-sweep-reflector/runs/4kmtoa5b\" target=\"_blank\">https://wandb.ai/andrewbrown/gpt2-sweep-reflector/runs/4kmtoa5b</a>"
      ],
      "text/plain": [
       "<IPython.core.display.HTML object>"
      ]
     },
     "metadata": {},
     "output_type": "display_data"
    },
    {
     "name": "stderr",
     "output_type": "stream",
     "text": [
      "/home/ubuntu/anaconda3/envs/torch_p37/lib/python3.7/site-packages/transformers/optimization.py:310: FutureWarning: This implementation of AdamW is deprecated and will be removed in a future version. Use the PyTorch implementation torch.optim.AdamW instead, or set `no_deprecation_warning=True` to disable this warning\n",
      "  FutureWarning,\n"
     ]
    },
    {
     "name": "stdout",
     "output_type": "stream",
     "text": [
      "---Training...---\n",
      "---Done Training Epoch!---\n",
      "---Training epoch took 0:01:20 ---\n",
      "---Training...---\n",
      "---Done Training Epoch!---\n",
      "---Training epoch took 0:01:23 ---\n",
      "---Training...---\n"
     ]
    },
    {
     "name": "stderr",
     "output_type": "stream",
     "text": [
      "wandb: ERROR Summary data exceeds maximum size of 10.4MB. Dropping it.\n"
     ]
    },
    {
     "name": "stdout",
     "output_type": "stream",
     "text": [
      "---Done Training Epoch!---\n",
      "---Training epoch took 0:01:26 ---\n",
      "---Training...---\n",
      "---Done Training Epoch!---\n",
      "---Training epoch took 0:01:26 ---\n",
      "---Training...---\n",
      "---Done Training Epoch!---\n",
      "---Training epoch took 0:01:26 ---\n",
      "---Training...---\n",
      "---Done Training Epoch!---\n",
      "---Training epoch took 0:01:26 ---\n",
      "---Training...---\n",
      "---Done Training Epoch!---\n",
      "---Training epoch took 0:01:26 ---\n",
      "---Training...---\n",
      "---Done Training Epoch!---\n",
      "---Training epoch took 0:01:21 ---\n",
      "---Training...---\n",
      "---Done Training Epoch!---\n",
      "---Training epoch took 0:01:19 ---\n",
      "---Training...---\n",
      "---Done Training Epoch!---\n",
      "---Training epoch took 0:01:19 ---\n",
      "---Training...---\n",
      "---Done Training Epoch!---\n",
      "---Training epoch took 0:01:20 ---\n",
      "---Training...---\n",
      "---Done Training Epoch!---\n",
      "---Training epoch took 0:01:22 ---\n",
      "---Training...---\n",
      "---Done Training Epoch!---\n",
      "---Training epoch took 0:01:25 ---\n",
      "---Training...---\n",
      "---Done Training Epoch!---\n",
      "---Training epoch took 0:01:26 ---\n",
      "---Training...---\n",
      "---Done Training Epoch!---\n",
      "---Training epoch took 0:01:26 ---\n",
      "---Training...---\n",
      "---Done Training Epoch!---\n",
      "---Training epoch took 0:01:26 ---\n",
      "---Training...---\n",
      "---Done Training Epoch!---\n",
      "---Training epoch took 0:01:27 ---\n",
      "---Training...---\n",
      "---Done Training Epoch!---\n",
      "---Training epoch took 0:01:26 ---\n",
      "---Training...---\n",
      "---Done Training Epoch!---\n",
      "---Training epoch took 0:01:26 ---\n",
      "---Training...---\n",
      "---Done Training Epoch!---\n",
      "---Training epoch took 0:01:27 ---\n"
     ]
    },
    {
     "data": {
      "text/html": [
       "Waiting for W&B process to finish... <strong style=\"color:green\">(success).</strong>"
      ],
      "text/plain": [
       "<IPython.core.display.HTML object>"
      ]
     },
     "metadata": {},
     "output_type": "display_data"
    },
    {
     "data": {
      "text/html": [
       "<style>\n",
       "    table.wandb td:nth-child(1) { padding: 0 10px; text-align: left ; width: auto;} td:nth-child(2) {text-align: left ; width: 100%}\n",
       "    .wandb-row { display: flex; flex-direction: row; flex-wrap: wrap; justify-content: flex-start; width: 100% }\n",
       "    .wandb-col { display: flex; flex-direction: column; flex-basis: 100%; flex: 1; padding: 10px; }\n",
       "    </style>\n",
       "<div class=\"wandb-row\"><div class=\"wandb-col\"><h3>Run history:</h3><br/><table class=\"wandb\"><tr><td>epoch</td><td>▁▁▂▂▂▃▃▄▄▄▅▅▅▆▆▇▇▇██</td></tr><tr><td>loss</td><td>▇▆▃▂▅▅▇▅▂▁▂▂▂█▄▂▃▁▃▃</td></tr></table><br/></div><div class=\"wandb-col\"><h3>Run summary:</h3><br/><table class=\"wandb\"><tr><td>epoch</td><td>19</td></tr><tr><td>loss</td><td>0.01033</td></tr></table><br/></div></div>"
      ],
      "text/plain": [
       "<IPython.core.display.HTML object>"
      ]
     },
     "metadata": {},
     "output_type": "display_data"
    },
    {
     "data": {
      "text/html": [
       " View run <strong style=\"color:#cdcd00\">hardy-sweep-1</strong> at: <a href=\"https://wandb.ai/andrewbrown/gpt2-sweep-reflector/runs/4kmtoa5b\" target=\"_blank\">https://wandb.ai/andrewbrown/gpt2-sweep-reflector/runs/4kmtoa5b</a><br/>Synced 6 W&B file(s), 0 media file(s), 0 artifact file(s) and 0 other file(s)"
      ],
      "text/plain": [
       "<IPython.core.display.HTML object>"
      ]
     },
     "metadata": {},
     "output_type": "display_data"
    },
    {
     "data": {
      "text/html": [
       "Find logs at: <code>./wandb/run-20230220_054608-4kmtoa5b/logs</code>"
      ],
      "text/plain": [
       "<IPython.core.display.HTML object>"
      ]
     },
     "metadata": {},
     "output_type": "display_data"
    },
    {
     "name": "stderr",
     "output_type": "stream",
     "text": [
      "\u001b[34m\u001b[1mwandb\u001b[0m: Agent Starting Run: zqi6lxsu with config:\n",
      "\u001b[34m\u001b[1mwandb\u001b[0m: \tbatch_size: 1\n",
      "\u001b[34m\u001b[1mwandb\u001b[0m: \tepochs: 10\n",
      "\u001b[34m\u001b[1mwandb\u001b[0m: \tlearning_rate: 0.04532143387048465\n",
      "\u001b[34m\u001b[1mwandb\u001b[0m: \u001b[33mWARNING\u001b[0m Ignored wandb.init() arg project when running a sweep.\n",
      "time=\"2023-02-20T06:14:40Z\" level=fatal msg=\"Failed to discover neuron devices\" error=\"Unable to read device information from the driver. Make sure aws-neuron-dkms is installed and the neuron driver is accessible.\"\n"
     ]
    },
    {
     "data": {
      "text/html": [
       "wandb version 0.13.10 is available!  To upgrade, please run:\n",
       " $ pip install wandb --upgrade"
      ],
      "text/plain": [
       "<IPython.core.display.HTML object>"
      ]
     },
     "metadata": {},
     "output_type": "display_data"
    },
    {
     "data": {
      "text/html": [
       "Tracking run with wandb version 0.13.9"
      ],
      "text/plain": [
       "<IPython.core.display.HTML object>"
      ]
     },
     "metadata": {},
     "output_type": "display_data"
    },
    {
     "data": {
      "text/html": [
       "Run data is saved locally in <code>/home/ubuntu/transformer-fine-tune/notebooks/wandb/run-20230220_061439-zqi6lxsu</code>"
      ],
      "text/plain": [
       "<IPython.core.display.HTML object>"
      ]
     },
     "metadata": {},
     "output_type": "display_data"
    },
    {
     "data": {
      "text/html": [
       "Syncing run <strong><a href=\"https://wandb.ai/andrewbrown/gpt2-sweep-reflector/runs/zqi6lxsu\" target=\"_blank\">revived-sweep-2</a></strong> to <a href=\"https://wandb.ai/andrewbrown/gpt2-sweep-reflector\" target=\"_blank\">Weights & Biases</a> (<a href=\"https://wandb.me/run\" target=\"_blank\">docs</a>)<br/>Sweep page: <a href=\"https://wandb.ai/andrewbrown/gpt2-sweep-reflector/sweeps/3n2rw2r6\" target=\"_blank\">https://wandb.ai/andrewbrown/gpt2-sweep-reflector/sweeps/3n2rw2r6</a>"
      ],
      "text/plain": [
       "<IPython.core.display.HTML object>"
      ]
     },
     "metadata": {},
     "output_type": "display_data"
    },
    {
     "data": {
      "text/html": [
       " View project at <a href=\"https://wandb.ai/andrewbrown/gpt2-sweep-reflector\" target=\"_blank\">https://wandb.ai/andrewbrown/gpt2-sweep-reflector</a>"
      ],
      "text/plain": [
       "<IPython.core.display.HTML object>"
      ]
     },
     "metadata": {},
     "output_type": "display_data"
    },
    {
     "data": {
      "text/html": [
       " View sweep at <a href=\"https://wandb.ai/andrewbrown/gpt2-sweep-reflector/sweeps/3n2rw2r6\" target=\"_blank\">https://wandb.ai/andrewbrown/gpt2-sweep-reflector/sweeps/3n2rw2r6</a>"
      ],
      "text/plain": [
       "<IPython.core.display.HTML object>"
      ]
     },
     "metadata": {},
     "output_type": "display_data"
    },
    {
     "data": {
      "text/html": [
       " View run at <a href=\"https://wandb.ai/andrewbrown/gpt2-sweep-reflector/runs/zqi6lxsu\" target=\"_blank\">https://wandb.ai/andrewbrown/gpt2-sweep-reflector/runs/zqi6lxsu</a>"
      ],
      "text/plain": [
       "<IPython.core.display.HTML object>"
      ]
     },
     "metadata": {},
     "output_type": "display_data"
    },
    {
     "name": "stderr",
     "output_type": "stream",
     "text": [
      "/home/ubuntu/anaconda3/envs/torch_p37/lib/python3.7/site-packages/transformers/optimization.py:310: FutureWarning: This implementation of AdamW is deprecated and will be removed in a future version. Use the PyTorch implementation torch.optim.AdamW instead, or set `no_deprecation_warning=True` to disable this warning\n",
      "  FutureWarning,\n"
     ]
    },
    {
     "name": "stdout",
     "output_type": "stream",
     "text": [
      "---Training...---\n",
      "---Done Training Epoch!---\n",
      "---Training epoch took 0:01:22 ---\n",
      "---Training...---\n",
      "---Done Training Epoch!---\n",
      "---Training epoch took 0:01:19 ---\n",
      "---Training...---\n"
     ]
    },
    {
     "name": "stderr",
     "output_type": "stream",
     "text": [
      "wandb: ERROR Summary data exceeds maximum size of 10.4MB. Dropping it.\n"
     ]
    },
    {
     "name": "stdout",
     "output_type": "stream",
     "text": [
      "---Done Training Epoch!---\n",
      "---Training epoch took 0:01:20 ---\n",
      "---Training...---\n",
      "---Done Training Epoch!---\n",
      "---Training epoch took 0:01:21 ---\n",
      "---Training...---\n",
      "---Done Training Epoch!---\n",
      "---Training epoch took 0:01:23 ---\n",
      "---Training...---\n",
      "---Done Training Epoch!---\n",
      "---Training epoch took 0:01:27 ---\n",
      "---Training...---\n",
      "---Done Training Epoch!---\n",
      "---Training epoch took 0:01:28 ---\n",
      "---Training...---\n",
      "---Done Training Epoch!---\n",
      "---Training epoch took 0:01:27 ---\n",
      "---Training...---\n",
      "---Done Training Epoch!---\n",
      "---Training epoch took 0:01:27 ---\n",
      "---Training...---\n",
      "---Done Training Epoch!---\n",
      "---Training epoch took 0:01:28 ---\n",
      "---Training...---\n",
      "---Done Training Epoch!---\n",
      "---Training epoch took 0:01:27 ---\n",
      "---Training...---\n",
      "---Done Training Epoch!---\n",
      "---Training epoch took 0:01:27 ---\n",
      "---Training...---\n",
      "---Done Training Epoch!---\n",
      "---Training epoch took 0:01:27 ---\n",
      "---Training...---\n",
      "---Done Training Epoch!---\n",
      "---Training epoch took 0:01:27 ---\n",
      "---Training...---\n",
      "---Done Training Epoch!---\n",
      "---Training epoch took 0:01:27 ---\n",
      "---Training...---\n",
      "---Done Training Epoch!---\n",
      "---Training epoch took 0:01:27 ---\n",
      "---Training...---\n",
      "---Done Training Epoch!---\n",
      "---Training epoch took 0:01:27 ---\n",
      "---Training...---\n",
      "---Done Training Epoch!---\n",
      "---Training epoch took 0:01:27 ---\n",
      "---Training...---\n",
      "---Done Training Epoch!---\n",
      "---Training epoch took 0:01:27 ---\n",
      "---Training...---\n",
      "---Done Training Epoch!---\n",
      "---Training epoch took 0:01:28 ---\n"
     ]
    },
    {
     "data": {
      "text/html": [
       "Waiting for W&B process to finish... <strong style=\"color:green\">(success).</strong>"
      ],
      "text/plain": [
       "<IPython.core.display.HTML object>"
      ]
     },
     "metadata": {},
     "output_type": "display_data"
    },
    {
     "data": {
      "text/html": [
       "<style>\n",
       "    table.wandb td:nth-child(1) { padding: 0 10px; text-align: left ; width: auto;} td:nth-child(2) {text-align: left ; width: 100%}\n",
       "    .wandb-row { display: flex; flex-direction: row; flex-wrap: wrap; justify-content: flex-start; width: 100% }\n",
       "    .wandb-col { display: flex; flex-direction: column; flex-basis: 100%; flex: 1; padding: 10px; }\n",
       "    </style>\n",
       "<div class=\"wandb-row\"><div class=\"wandb-col\"><h3>Run history:</h3><br/><table class=\"wandb\"><tr><td>epoch</td><td>▁▁▂▂▂▃▃▄▄▄▅▅▅▆▆▇▇▇██</td></tr><tr><td>loss</td><td>▆▃▇█▅▂▂▃▄▂▄▄▂▄▃▃▂▄▁▃</td></tr></table><br/></div><div class=\"wandb-col\"><h3>Run summary:</h3><br/><table class=\"wandb\"><tr><td>epoch</td><td>19</td></tr><tr><td>loss</td><td>0.00989</td></tr></table><br/></div></div>"
      ],
      "text/plain": [
       "<IPython.core.display.HTML object>"
      ]
     },
     "metadata": {},
     "output_type": "display_data"
    },
    {
     "data": {
      "text/html": [
       " View run <strong style=\"color:#cdcd00\">revived-sweep-2</strong> at: <a href=\"https://wandb.ai/andrewbrown/gpt2-sweep-reflector/runs/zqi6lxsu\" target=\"_blank\">https://wandb.ai/andrewbrown/gpt2-sweep-reflector/runs/zqi6lxsu</a><br/>Synced 6 W&B file(s), 0 media file(s), 0 artifact file(s) and 0 other file(s)"
      ],
      "text/plain": [
       "<IPython.core.display.HTML object>"
      ]
     },
     "metadata": {},
     "output_type": "display_data"
    },
    {
     "data": {
      "text/html": [
       "Find logs at: <code>./wandb/run-20230220_061439-zqi6lxsu/logs</code>"
      ],
      "text/plain": [
       "<IPython.core.display.HTML object>"
      ]
     },
     "metadata": {},
     "output_type": "display_data"
    }
   ],
   "source": [
    "wandb.agent(sweep_id, train, count=5)"
   ]
  },
  {
   "cell_type": "code",
   "execution_count": 45,
   "id": "480425a6-7850-460f-b6e6-3f8ea1d06716",
   "metadata": {},
   "outputs": [],
   "source": [
    "def train_epoch(model, train_dataloader, optimizer):\n",
    "    training_stats = []\n",
    "\n",
    "    model = model.to(device)\n",
    "\n",
    "    \"\"\"\n",
    "    Training for one epoch\n",
    "    \"\"\"\n",
    "    wandb.watch(model)\n",
    "    print(\"---Training...---\")\n",
    "\n",
    "    # start epoch timer\n",
    "    t0 = time.time()\n",
    "\n",
    "    total_train_loss = 0\n",
    "\n",
    "    # sets model into train mode, not actual backprop\n",
    "    # dropout and batchnorm behave differently\n",
    "    # opposite of model.eval() for inference mode\n",
    "    model.train()\n",
    "\n",
    "    for step, batch in enumerate(train_dataloader):\n",
    "        # grab input tokens, labels, and masks\n",
    "        input_tokens = batch[0].to(device)\n",
    "        # in this case, we're generating text,\n",
    "        # so label tokens are the input tokens shifted\n",
    "        label_tokens = batch[0].to(device)\n",
    "        attn_masks = batch[1].to(device)\n",
    "\n",
    "        # clear any gradients from model tensors\n",
    "        # prevents any gradient accumulation\n",
    "        model.zero_grad()\n",
    "\n",
    "        # forward pass\n",
    "        outputs = model(input_tokens,\n",
    "                        labels=label_tokens,\n",
    "                        attention_mask=attn_masks,\n",
    "                        token_type_ids=None\n",
    "                       )\n",
    "\n",
    "        # grab loss from outputs\n",
    "        loss = outputs[0]\n",
    "\n",
    "        batch_loss = loss.item()  # detach from device with item\n",
    "        total_train_loss += batch_loss\n",
    "\n",
    "        # backpropagation step\n",
    "        # computes dloss/dx for every parameter x which has requires_grad=True.\n",
    "        # updates gradient values\n",
    "        # x.grad += dloss/dx\n",
    "        loss.backward()\n",
    "\n",
    "        # step optimizer\n",
    "        # updates the value of x using the gradient x.grad\n",
    "        # x += -lr * x.grad\n",
    "        optimizer.step()\n",
    "\n",
    "        # step scheduler\n",
    "        # tells scheduler to increase learning rate\n",
    "        # using our warmup steps\n",
    "        scheduler.step()\n",
    "\n",
    "    print(\"---Done Training Epoch!---\")\n",
    "    # measure how long the epoch took\n",
    "    training_time = format_time(time.time() - t0)\n",
    "\n",
    "    print(f\"---Training epoch took {training_time} ---\")\n",
    "    # calculate average loss over all batches\n",
    "    return total_train_loss / len(train_dataloader)"
   ]
  },
  {
   "cell_type": "code",
   "execution_count": null,
   "id": "eb7ae0d5-cb1e-4eb6-8581-15604e39fc75",
   "metadata": {},
   "outputs": [],
   "source": [
    "def validate_one_epoch():\n",
    "    \"\"\"\n",
    "    Validation\n",
    "    \"\"\"\n",
    "    print(\"---Running Validation...---\")\n",
    "    \n",
    "    # start batch timer\n",
    "    t0 = time.time()\n",
    "    \n",
    "    # set model to inference mode\n",
    "    model.eval()\n",
    "    \n",
    "    total_eval_loss = 0\n",
    "    nb_eval_steps = 0\n",
    "    \n",
    "    # evaluate data for one epoch\n",
    "    for batch in validation_dataloader:\n",
    "        # grab input tokens, labels, and masks\n",
    "        input_tokens = batch[0].to(device)\n",
    "        # in this case, we're generating text,\n",
    "        # so label tokens are the input tokens shifted\n",
    "        label_tokens = batch[0].to(device)\n",
    "        attn_masks = batch[1].to(device)\n",
    "        \n",
    "        # freeze gradients\n",
    "        with torch.no_grad():\n",
    "            outputs = model(input_tokens,\n",
    "                            attention_mask=attn_masks,\n",
    "                            labels=label_tokens)\n",
    "            \n",
    "            loss = outputs[0]\n",
    "        \n",
    "        batch_loss = loss.item()\n",
    "        total_eval_loss += batch_loss\n",
    "        \n",
    "    avg_val_loss = total_eval_loss / len(validation_dataloader)\n",
    "    validation_time = format_time(time.time() - t0)\n",
    "    \n",
    "    print(f\"Validation Loss: {avg_val_loss}\")\n",
    "    print(f\"Validation took: {validation_time}\")\n",
    "    \n",
    "    # save all training statistics from the epoch\n",
    "    training_stats.append(\n",
    "        {\n",
    "            'epoch': epoch_i + 1,\n",
    "            'Training Loss': avg_train_loss,\n",
    "            'Validation Loss': avg_val_loss,\n",
    "            'Training Time': training_time,\n",
    "            'Validation Time': validation_time\n",
    "        })\n",
    "    # log training data to wandb as well\n",
    "    wandb.log({\n",
    "            'epoch': epoch_i + 1,\n",
    "            'Training Loss': avg_train_loss,\n",
    "            'Validation Loss': avg_val_loss,\n",
    "            'Training Time': training_time,\n",
    "            'Validation Time': validation_time\n",
    "        })\n",
    "    \n"
   ]
  },
  {
   "cell_type": "code",
   "execution_count": 59,
   "id": "f16de48c-372a-461e-92d2-0f87b15aee08",
   "metadata": {},
   "outputs": [
    {
     "data": {
      "text/html": [
       "<div>\n",
       "<style scoped>\n",
       "    .dataframe tbody tr th:only-of-type {\n",
       "        vertical-align: middle;\n",
       "    }\n",
       "\n",
       "    .dataframe tbody tr th {\n",
       "        vertical-align: top;\n",
       "    }\n",
       "\n",
       "    .dataframe thead th {\n",
       "        text-align: right;\n",
       "    }\n",
       "</style>\n",
       "<table border=\"1\" class=\"dataframe\">\n",
       "  <thead>\n",
       "    <tr style=\"text-align: right;\">\n",
       "      <th></th>\n",
       "      <th>Training Loss</th>\n",
       "      <th>Validation Loss</th>\n",
       "      <th>Training Time</th>\n",
       "      <th>Validation Time</th>\n",
       "    </tr>\n",
       "    <tr>\n",
       "      <th>epoch</th>\n",
       "      <th></th>\n",
       "      <th></th>\n",
       "      <th></th>\n",
       "      <th></th>\n",
       "    </tr>\n",
       "  </thead>\n",
       "  <tbody>\n",
       "    <tr>\n",
       "      <th>1</th>\n",
       "      <td>0.05</td>\n",
       "      <td>0.09</td>\n",
       "      <td>0:01:08</td>\n",
       "      <td>0:00:02</td>\n",
       "    </tr>\n",
       "    <tr>\n",
       "      <th>2</th>\n",
       "      <td>0.05</td>\n",
       "      <td>0.09</td>\n",
       "      <td>0:01:10</td>\n",
       "      <td>0:00:03</td>\n",
       "    </tr>\n",
       "    <tr>\n",
       "      <th>3</th>\n",
       "      <td>0.05</td>\n",
       "      <td>0.09</td>\n",
       "      <td>0:01:13</td>\n",
       "      <td>0:00:03</td>\n",
       "    </tr>\n",
       "    <tr>\n",
       "      <th>4</th>\n",
       "      <td>0.05</td>\n",
       "      <td>0.09</td>\n",
       "      <td>0:01:21</td>\n",
       "      <td>0:00:03</td>\n",
       "    </tr>\n",
       "    <tr>\n",
       "      <th>5</th>\n",
       "      <td>0.05</td>\n",
       "      <td>0.09</td>\n",
       "      <td>0:01:23</td>\n",
       "      <td>0:00:03</td>\n",
       "    </tr>\n",
       "  </tbody>\n",
       "</table>\n",
       "</div>"
      ],
      "text/plain": [
       "       Training Loss  Validation Loss Training Time Validation Time\n",
       "epoch                                                              \n",
       "1               0.05             0.09       0:01:08         0:00:02\n",
       "2               0.05             0.09       0:01:10         0:00:03\n",
       "3               0.05             0.09       0:01:13         0:00:03\n",
       "4               0.05             0.09       0:01:21         0:00:03\n",
       "5               0.05             0.09       0:01:23         0:00:03"
      ]
     },
     "execution_count": 59,
     "metadata": {},
     "output_type": "execute_result"
    }
   ],
   "source": [
    "# Display floats with two decimal places.\n",
    "pd.set_option('precision', 2)\n",
    "\n",
    "# Create a DataFrame from our training statistics.\n",
    "df_stats = pd.DataFrame(data=training_stats)\n",
    "\n",
    "# Use the 'epoch' as the row index.\n",
    "df_stats = df_stats.set_index('epoch')\n",
    "\n",
    "# A hack to force the column headers to wrap.\n",
    "#df = df.style.set_table_styles([dict(selector=\"th\",props=[('max-width', '70px')])])\n",
    "\n",
    "# Display the table.\n",
    "df_stats"
   ]
  },
  {
   "cell_type": "code",
   "execution_count": 63,
   "id": "3929adad-19ed-40fd-890d-5f69b669aafe",
   "metadata": {},
   "outputs": [
    {
     "data": {
      "image/png": "[encoded data removed]",
      "text/plain": [
       "<Figure size 1200x600 with 1 Axes>"
      ]
     },
     "metadata": {},
     "output_type": "display_data"
    }
   ],
   "source": [
    "# Use plot styling from seaborn.\n",
    "sns.set(style='darkgrid')\n",
    "\n",
    "# Increase the plot size and font size.\n",
    "sns.set(font_scale=1.5)\n",
    "plt.rcParams[\"figure.figsize\"] = (12,6)\n",
    "\n",
    "# Plot the learning curve.\n",
    "plt.plot(df_stats['Training Loss'], 'b-o', label=\"Training\")\n",
    "plt.plot(df_stats['Validation Loss'], 'g-o', label=\"Validation\")\n",
    "\n",
    "# Label the plot.\n",
    "plt.title(\"Training & Validation Loss\")\n",
    "plt.xlabel(\"Epoch\")\n",
    "plt.ylabel(\"Loss\")\n",
    "plt.legend()\n",
    "plt.xticks([1, 2, 3, 4])\n",
    "\n",
    "plt.show()"
   ]
  },
  {
   "cell_type": "code",
   "execution_count": 32,
   "id": "c6c00054-512d-468f-bad7-c22d66e527b2",
   "metadata": {},
   "outputs": [
    {
     "name": "stdout",
     "output_type": "stream",
     "text": [
      "The GPT-2 model has 148 different named parameters.\n",
      "\n",
      "==== Embedding Layer ====\n",
      "\n",
      "transformer.wte.weight                                  (50259, 768)\n",
      "transformer.wpe.weight                                   (1024, 768)\n",
      "\n",
      "==== First Transformer ====\n",
      "\n",
      "transformer.h.0.ln_1.weight                                   (768,)\n",
      "transformer.h.0.ln_1.bias                                     (768,)\n",
      "transformer.h.0.attn.c_attn.weight                       (768, 2304)\n",
      "transformer.h.0.attn.c_attn.bias                             (2304,)\n",
      "transformer.h.0.attn.c_proj.weight                        (768, 768)\n",
      "transformer.h.0.attn.c_proj.bias                              (768,)\n",
      "transformer.h.0.ln_2.weight                                   (768,)\n",
      "transformer.h.0.ln_2.bias                                     (768,)\n",
      "transformer.h.0.mlp.c_fc.weight                          (768, 3072)\n",
      "transformer.h.0.mlp.c_fc.bias                                (3072,)\n",
      "transformer.h.0.mlp.c_proj.weight                        (3072, 768)\n",
      "transformer.h.0.mlp.c_proj.bias                               (768,)\n",
      "\n",
      "==== Output Layer ====\n",
      "\n",
      "transformer.ln_f.weight                                       (768,)\n",
      "transformer.ln_f.bias                                         (768,)\n"
     ]
    }
   ],
   "source": [
    "# Get all of the model's parameters as a list of tuples.\n",
    "params = list(model.named_parameters())\n",
    "\n",
    "print('The GPT-2 model has {:} different named parameters.\\n'.format(len(params)))\n",
    "\n",
    "print('==== Embedding Layer ====\\n')\n",
    "\n",
    "for p in params[0:2]:\n",
    "    print(\"{:<55} {:>12}\".format(p[0], str(tuple(p[1].size()))))\n",
    "\n",
    "print('\\n==== First Transformer ====\\n')\n",
    "\n",
    "for p in params[2:14]:\n",
    "    print(\"{:<55} {:>12}\".format(p[0], str(tuple(p[1].size()))))\n",
    "\n",
    "print('\\n==== Output Layer ====\\n')\n",
    "\n",
    "for p in params[-2:]:\n",
    "    print(\"{:<55} {:>12}\".format(p[0], str(tuple(p[1].size()))))"
   ]
  },
  {
   "cell_type": "code",
   "execution_count": 40,
   "id": "c5689d6a-934e-440e-906d-4325212bec40",
   "metadata": {},
   "outputs": [
    {
     "name": "stdout",
     "output_type": "stream",
     "text": [
      "Saving model to ../../Output/model/gpt-feb5/\n"
     ]
    }
   ],
   "source": [
    "# saving and loading the finetuned model\n",
    "output_dir = '../../Output/model/gpt-feb6/'\n",
    "tokenizer_dir = '../../Output/model/gpt-tokenizer-feb6/'\n",
    "\n",
    "# create output directory if needed\n",
    "if not os.path.exists(output_dir):\n",
    "    os.makedirs(output_dir)\n",
    "\n",
    "# create output directory if needed\n",
    "if not os.path.exists(tokenizer_dir):\n",
    "    os.makedirs(tokenizer_dir)\n",
    "    \n",
    "    \n",
    "print(f\"Saving model to {output_dir}\")"
   ]
  },
  {
   "cell_type": "code",
   "execution_count": 41,
   "id": "ded92b74-16ff-4894-8fb4-a1fa20e7e76d",
   "metadata": {},
   "outputs": [
    {
     "data": {
      "text/plain": [
       "('../../Output/model/gpt-tokenizer-feb5/tokenizer_config.json',\n",
       " '../../Output/model/gpt-tokenizer-feb5/special_tokens_map.json',\n",
       " '../../Output/model/gpt-tokenizer-feb5/vocab.json',\n",
       " '../../Output/model/gpt-tokenizer-feb5/merges.txt',\n",
       " '../../Output/model/gpt-tokenizer-feb5/added_tokens.json')"
      ]
     },
     "execution_count": 41,
     "metadata": {},
     "output_type": "execute_result"
    }
   ],
   "source": [
    "# Save trained model, configuration and tokenizer\n",
    "model_to_save = model.module if hasattr(model, 'module') else model\n",
    "model_to_save.save_pretrained(output_dir)\n",
    "tokenizer.save_pretrained(tokenizer_dir)"
   ]
  },
  {
   "cell_type": "code",
   "execution_count": 43,
   "id": "81249326-1640-4cb3-879a-95d16dbc8c64",
   "metadata": {},
   "outputs": [],
   "source": [
    "# save training arguments with trained model\n",
    "torch.save(model.state_dict(), os.path.join(output_dir, 'training_args.bin'))"
   ]
  },
  {
   "cell_type": "code",
   "execution_count": null,
   "id": "adb50428-5226-4a66-95b1-9bce62d8f18a",
   "metadata": {},
   "outputs": [],
   "source": [
    "# # Load a trained model and vocabulary that you have fine-tuned\n",
    "model = GPT2LMHeadModel.from_pretrained(output_dir)\n",
    "tokenizer = GPT2Tokenizer.from_pretrained(output_dir)\n",
    "model.to(device)"
   ]
  }
 ],
 "metadata": {
  "kernelspec": {
   "display_name": "Python 3 (ipykernel)",
   "language": "python",
   "name": "python3"
  },
  "language_info": {
   "codemirror_mode": {
    "name": "ipython",
    "version": 3
   },
   "file_extension": ".py",
   "mimetype": "text/x-python",
   "name": "python",
   "nbconvert_exporter": "python",
   "pygments_lexer": "ipython3",
   "version": "3.7.12"
  }
 },
 "nbformat": 4,
 "nbformat_minor": 5
}
